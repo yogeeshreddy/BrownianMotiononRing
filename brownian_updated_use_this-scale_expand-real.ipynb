{
 "cells": [
  {
   "cell_type": "code",
   "execution_count": null,
   "id": "dfff1145",
   "metadata": {},
   "outputs": [],
   "source": [
    "# Brownian v2 and v3 in this file. v2 is just for archival purpose. Use v3 for multiprocessing."
   ]
  },
  {
   "cell_type": "code",
   "execution_count": 198,
   "id": "7bfd07d2",
   "metadata": {
    "code_folding": [
     5
    ]
   },
   "outputs": [
    {
     "name": "stdout",
     "output_type": "stream",
     "text": [
      "Program finished in 0.49318546199356206 seconds\n",
      "46000\n"
     ]
    }
   ],
   "source": [
    "import random, matplotlib.pyplot as plt, time, math, multiprocessing, concurrent.futures\n",
    "import numpy as np\n",
    "\n",
    "from itertools import repeat\n",
    "\n",
    "\n",
    "#plt.style.use(['science'])\n",
    "\n",
    "def flatten(xss):\n",
    "    return [x for xs in xss for x in xs]\n",
    "\n",
    "eta=8.9*1e-4\n",
    "r_particle=1e-6\n",
    "Radius_of_circle=10 *1e-6\n",
    "gamma=6*np.pi*eta*r_particle\n",
    "temp=300\n",
    "kb=1.380659*1e-23\n",
    "D0=kb*temp/gamma\n",
    "\n",
    "dt=1e-1\n",
    "\n",
    "norm1= 4 *1e-2   # 2 *1e-2\n",
    "norm2= 1.5 *1e-1   # 150 * 1e-3\n",
    "\n",
    "drift,potential_constant,time2=  4*norm1*1e-15,  10*norm2*kb*300 ,  30000*dt\n",
    "\n",
    "ram0=10\n",
    "def brownian_v5(iterations):\n",
    "\n",
    "    #pos=np.zeros((iterations,ram0))\n",
    "    #cur=np.zeros((iterations,ram0))\n",
    "\n",
    "    C=[sigma, drift, potential_constant, iterations,time2]\n",
    "    \n",
    "    intial_pos=-np.arcsin(-Radius_of_circle*drift/potential_constant)+np.pi\n",
    "\n",
    "    theta0=np.full(ram0,intial_pos) \n",
    "    #use above theta0 for f<V0. For f>V0, use below theta0\n",
    "    #theta0=np.full(ram0,np.pi/2) \n",
    "    \n",
    "    theta=np.full(ram0,theta0)\n",
    "    theta2=np.zeros(ram0)\n",
    "    \n",
    "    dt=0.1 \n",
    "    T=int(time2/dt)                                #Total time of iteration which needs breaking down for more data points\n",
    "    std=np.sqrt(dt*sigma)\n",
    "    \n",
    "    prefactor=1/(gamma*Radius_of_circle)\n",
    "    \n",
    "    Delta=10\n",
    "    tau=100\n",
    "    l=100\n",
    "    \n",
    "    cur2=[[] for i in repeat(None, int((T-l)/Delta))]\n",
    "    for n in range(iterations):\n",
    "        \n",
    "        theta=np.full(ram0,theta0)\n",
    "        temp = np.zeros((T,ram0))\n",
    "        \n",
    "        for i in range(T):\n",
    "            \n",
    "            theta+=prefactor*(np.random.normal(0,std, ram0)+(drift-potential_constant*(-np.sin(theta))/Radius_of_circle)*dt)\n",
    "            temp[i] = theta\n",
    "            \n",
    "        #theta2=theta-np.floor((theta-np.pi)/(2*np.pi))*2*np.pi-2*np.pi\n",
    "        \n",
    "        for j in range(int((T-l)/Delta)):\n",
    "            I=l+j*Delta\n",
    "            \n",
    "            for k in range(int((T-l-j*Delta)/tau)):\n",
    "                tempslice=temp[k*tau+I]-temp[k*tau]\n",
    "\n",
    "                #tempslice=tempslice.flatten.tolist()     why is tempslice not np array??\n",
    "                \n",
    "                #print(cur2)\n",
    "                \n",
    "                cur2[j].extend(Radius_of_circle*tempslice/(I*dt))\n",
    "        \n",
    "        \n",
    "        #pos[n]=theta2\n",
    "        #cur[n]=Radius_of_circle*(theta-theta0)/time2\n",
    "        \n",
    "        \n",
    "\n",
    "    #pos=pos.flatten()\n",
    "    #cur=cur.flatten()\n",
    "\n",
    "\n",
    "    return cur2    #pos,cur #D\n",
    "\n",
    "if __name__ == \"__main__\":\n",
    "    iterations=10**2\n",
    "    \n",
    "    with concurrent.futures.ProcessPoolExecutor() as executor:\n",
    "        start_time = time.perf_counter()\n",
    "        temp = list(executor.map(brownian_v5, [10 for i in range(int(iterations/10))]))\n",
    "        finish_time = time.perf_counter()\n",
    "    print(f\"Program finished in {finish_time-start_time} seconds\")\n",
    "    \n",
    "\n",
    "results = [[temp[i][j] for i in range(len(temp))] for j in range(len(temp[0]))]\n",
    "cur = flatten(results[1])\n",
    "\n",
    "print(len(cur))\n"
   ]
  },
  {
   "cell_type": "code",
   "execution_count": 93,
   "id": "ca0ae030",
   "metadata": {},
   "outputs": [],
   "source": [
    "num_points_k,N=1000,30\n",
    "start_k=-1\n",
    "end_k=1\n",
    "\n",
    "num_points_j=100\n",
    "start_j=-3 * 1e-7\n",
    "end_j=3 *1e-7\n",
    "\n",
    "def scgf(sigma,drift,potential_constant):\n",
    "    lamx=[]\n",
    "    lamy=[]\n",
    "    for i in range(num_points_k):\n",
    "        k=start_k+(end_k-start_k)/num_points_k*i\n",
    "        \n",
    "        mat=np.zeros((2*N+1+2,2*N+1+2), dtype=complex)\n",
    "        \n",
    "        for i in range(1,len(mat)-1):\n",
    "            mat[i,i]=(drift+k*sigma**2)*(-N+i-1)*1j-sigma**2*(-N+i-1)**2/2+k*drift+k**2*sigma**2/2\n",
    "            mat[i,i-1]=potential_constant/2*(-N+i-1-1-k*1j)\n",
    "            mat[i,i+1]=potential_constant/2*(N-i+1-1+k*1j)\n",
    "        \n",
    "        a=np.linalg.eigvals(mat[1:-1,1:-1])\n",
    "        b=[]\n",
    "        for i in range(len(a)):\n",
    "            if abs(a[i].imag)<1e-7:\n",
    "                b.append(a[i].real)\n",
    "        \n",
    "        lamx.append(k)\n",
    "        lamy.append(b[0])\n",
    "    \n",
    "    return [lamx,lamy]\n",
    "\n",
    "def ratefn(sigma,drift,potential_constant):\n",
    "    Ix=[]\n",
    "    Iy=[]\n",
    "    for i in range(num_points_j):\n",
    "        j=start_j+(end_j-start_j)/num_points_j*i\n",
    "        \n",
    "        Ix.append(j)\n",
    "        Iy.append(max(np.array(scgf(sigma,drift,potential_constant)[0])*j-scgf(sigma,drift,potential_constant)[1]))\n",
    "        \n",
    "    return [Ix,Iy]\n",
    "\n",
    "\n"
   ]
  },
  {
   "cell_type": "code",
   "execution_count": 85,
   "id": "cc67b0fa",
   "metadata": {},
   "outputs": [],
   "source": [
    "arr=ratefn(sigma,drift,potential_constant)\n",
    "\n",
    "from scipy import interpolate\n",
    "\n",
    "tck = interpolate.splrep(arr[0], arr[1], s=0)\n",
    "xnew = np.arange(start_j, end_j, (end_j-start_j)/num_points_j)\n",
    "ynew = interpolate.splev(xnew, tck, der=0)"
   ]
  },
  {
   "cell_type": "code",
   "execution_count": null,
   "id": "925e8c38",
   "metadata": {},
   "outputs": [],
   "source": []
  },
  {
   "cell_type": "code",
   "execution_count": 86,
   "id": "b24823c9",
   "metadata": {
    "scrolled": true
   },
   "outputs": [
    {
     "data": {
      "text/plain": [
       "[<matplotlib.lines.Line2D at 0x7f340d9d4eb0>]"
      ]
     },
     "execution_count": 86,
     "metadata": {},
     "output_type": "execute_result"
    },
    {
     "data": {
      "image/png": "[encoded data removed]",
      "text/plain": [
       "<Figure size 432x288 with 1 Axes>"
      ]
     },
     "metadata": {
      "needs_background": "light"
     },
     "output_type": "display_data"
    }
   ],
   "source": [
    "plt.plot(xnew, ynew,'r--')"
   ]
  },
  {
   "cell_type": "code",
   "execution_count": 94,
   "id": "527f02fd",
   "metadata": {},
   "outputs": [
    {
     "data": {
      "text/plain": [
       "<matplotlib.collections.PathCollection at 0x7f35eee061d0>"
      ]
     },
     "execution_count": 94,
     "metadata": {},
     "output_type": "execute_result"
    },
    {
     "data": {
      "image/png": "[encoded data removed]",
      "text/plain": [
       "<Figure size 432x288 with 1 Axes>"
      ]
     },
     "metadata": {
      "needs_background": "light"
     },
     "output_type": "display_data"
    }
   ],
   "source": [
    "arr2=scgf(sigma,drift,potential_constant)\n",
    "\n",
    "plt.scatter(arr2[0],arr2[1])"
   ]
  },
  {
   "cell_type": "code",
   "execution_count": 8,
   "id": "f24093c7",
   "metadata": {
    "code_folding": [
     0
    ]
   },
   "outputs": [
    {
     "name": "stdout",
     "output_type": "stream",
     "text": [
      "0.020337268000048425\n"
     ]
    },
    {
     "data": {
      "image/png": "[encoded data removed]",
      "text/plain": [
       "<Figure size 432x288 with 1 Axes>"
      ]
     },
     "metadata": {
      "needs_background": "light"
     },
     "output_type": "display_data"
    }
   ],
   "source": [
    "def brownian(sigma,drift,potential_constant,iterations,time):\n",
    "    #gamma=1.380649*(10**(-23))*300/diffusion\n",
    "    A=[] #Set of final positions\n",
    "    B=[]\n",
    "    C=[sigma, drift, potential_constant, iterations,time]\n",
    "    theta0=-np.arcsin(-Radius_of_circle*drift/potential_constant)+np.pi \n",
    "    theta1=np.arcsin(-Radius_of_circle*drift/potential_constant)\n",
    "    #use above theta0 for f<V0. For f>V0, use below theta0\n",
    "    #theta0=-0.5\n",
    "    theta=theta0\n",
    "    \n",
    "    \n",
    "    K2=[]\n",
    "    \n",
    "    theta2=0\n",
    "    dt=0.1 #time increment\n",
    "    T=int(time/dt) #Total time\n",
    "    std=np.sqrt(dt*sigma)\n",
    "    prefactor=1/(gamma*Radius_of_circle)\n",
    "    for n in range(iterations):\n",
    "        D=[]\n",
    "        K=[]\n",
    "        K0=0\n",
    "        for i in range(T):\n",
    "            theta+=prefactor*(random.gauss(0,std)+(drift-potential_constant*(-np.sin(theta))/Radius_of_circle)*dt)\n",
    "            D.append(theta-theta0)\n",
    "            #if theta0-(theta0+theta1+np.pi)/2<theta<theta1+(theta0+theta1+np.pi)/2:\n",
    "            #    K0=theta\n",
    "            #    K.append(K0)\n",
    "            #else:\n",
    "            #    break\n",
    "        theta2=theta-np.floor((theta-np.pi)/(2*np.pi))*2*np.pi-2*np.pi\n",
    "            \n",
    "        A.append(theta2)\n",
    "        B.append(Radius_of_circle*(theta-theta0)/time)\n",
    "        K2.append(K)\n",
    "        \n",
    "        \n",
    "        theta=theta0\n",
    "    K2=flatten(K2)\n",
    "\n",
    "    return A,B,C,D,K2\n",
    "\n",
    "t1=time.perf_counter()\n",
    "data=brownian(drift,drift,potential_constant,10**0,1000)\n",
    "print(time.perf_counter()-t1)\n",
    "\n",
    "xs = [x for x in range(len(data[3]))]\n",
    "\n",
    "plt.plot(xs, data[3])\n",
    "plt.show()"
   ]
  },
  {
   "cell_type": "code",
   "execution_count": 165,
   "id": "9d1e08c9",
   "metadata": {
    "code_folding": [
     8
    ]
   },
   "outputs": [],
   "source": [
    "import random, matplotlib.pyplot as plt, time, math, multiprocessing, concurrent.futures\n",
    "import numpy as np\n",
    "\n",
    "from itertools import repeat\n",
    "\n",
    "\n",
    "#plt.style.use(['science'])\n",
    "\n",
    "def flatten(xss):\n",
    "    return [x for xs in xss for x in xs]\n",
    "\n",
    "eta=8.9*1e-4\n",
    "r_particle=1e-6\n",
    "Radius_of_circle=10 *1e-6\n",
    "gamma=6*np.pi*eta*r_particle\n",
    "temp=300\n",
    "kb=1.380659*1e-23\n",
    "D0=kb*temp/gamma\n",
    "\n",
    "dt=1e-2\n",
    "\n",
    "norm1= 10 *1e-2   # 2 *1e-2\n",
    "norm2= 1.5 *1e-1   # 150 * 1e-3\n",
    "\n",
    "drift,potential_constant,time2=  4*norm1*1e-15,  10*norm2*kb*300 ,  3000000*dt\n",
    "\n",
    "Delta,tau,l=300,3000,3000\n",
    "\n",
    "\n",
    "T=int(time2/dt)                               \n",
    "sigma=2*D0*gamma**2\n",
    "\n",
    "ram0=1\n",
    "def brownian_v4(iterations):\n",
    "\n",
    "    #C=[sigma, drift, potential_constant, iterations,time2]\n",
    "    \n",
    "    #intial_pos=-np.arcsin(-Radius_of_circle*drift/potential_constant)+np.pi\n",
    "    \n",
    "    intial_pos=0.0\n",
    "\n",
    "    theta0=np.full(ram0,intial_pos) \n",
    "    #use above theta0 for f<V0. For f>V0, use below theta0\n",
    "    #theta0=np.full(ram0,np.pi/2) \n",
    "    \n",
    "    theta=np.full(ram0,theta0)\n",
    "    theta2=np.zeros(ram0)\n",
    "    \n",
    "     \n",
    "    \n",
    "    std=np.sqrt(2*D0*gamma**2/dt)\n",
    "    \n",
    "    prefactor=1/(gamma*Radius_of_circle)\n",
    "    \n",
    "    cur2=[[] for i in repeat(None, int((T-l)/Delta))]\n",
    "    for n in range(iterations):\n",
    "        \n",
    "        theta=np.full(ram0,theta0)\n",
    "        temp = np.zeros((T,ram0))\n",
    "        \n",
    "        for i in range(T):\n",
    "            \n",
    "            theta+=prefactor*(np.random.normal(0,std, ram0)+drift-potential_constant*(-np.sin(theta))/Radius_of_circle)*dt\n",
    "            temp[i] = theta\n",
    "            \n",
    "        #theta2=theta-np.floor((theta-np.pi)/(2*np.pi))*2*np.pi-2*np.pi\n",
    "        \n",
    "        for j in range(int((T-l)/Delta)):\n",
    "            I=l+j*Delta\n",
    "            \n",
    "            for k in range(int((T-l-j*Delta)/tau)):\n",
    "                tempslice=temp[k*tau+I]-temp[k*tau]\n",
    "                \n",
    "                cur2[j].extend(Radius_of_circle*tempslice/(I*dt))\n",
    "                \n",
    "        \n",
    "\n",
    "    return cur2    "
   ]
  },
  {
   "cell_type": "code",
   "execution_count": 164,
   "id": "7bdc96f8",
   "metadata": {
    "scrolled": true
   },
   "outputs": [
    {
     "ename": "KeyboardInterrupt",
     "evalue": "",
     "output_type": "error",
     "traceback": [
      "\u001b[0;31m---------------------------------------------------------------------------\u001b[0m",
      "\u001b[0;31mKeyboardInterrupt\u001b[0m                         Traceback (most recent call last)",
      "\u001b[0;32m/tmp/ipykernel_72528/749351312.py\u001b[0m in \u001b[0;36m<module>\u001b[0;34m\u001b[0m\n\u001b[1;32m      1\u001b[0m \u001b[0mt1\u001b[0m\u001b[0;34m=\u001b[0m\u001b[0mtime\u001b[0m\u001b[0;34m.\u001b[0m\u001b[0mperf_counter\u001b[0m\u001b[0;34m(\u001b[0m\u001b[0;34m)\u001b[0m\u001b[0;34m\u001b[0m\u001b[0;34m\u001b[0m\u001b[0m\n\u001b[0;32m----> 2\u001b[0;31m \u001b[0minfo\u001b[0m\u001b[0;34m=\u001b[0m\u001b[0mbrownian_v4\u001b[0m\u001b[0;34m(\u001b[0m\u001b[0;36m1\u001b[0m\u001b[0;34m)\u001b[0m\u001b[0;34m\u001b[0m\u001b[0;34m\u001b[0m\u001b[0m\n\u001b[0m\u001b[1;32m      3\u001b[0m \u001b[0mprint\u001b[0m\u001b[0;34m(\u001b[0m\u001b[0mtime\u001b[0m\u001b[0;34m.\u001b[0m\u001b[0mperf_counter\u001b[0m\u001b[0;34m(\u001b[0m\u001b[0;34m)\u001b[0m\u001b[0;34m-\u001b[0m\u001b[0mt1\u001b[0m\u001b[0;34m)\u001b[0m\u001b[0;34m\u001b[0m\u001b[0;34m\u001b[0m\u001b[0m\n\u001b[1;32m      4\u001b[0m \u001b[0;34m\u001b[0m\u001b[0m\n\u001b[1;32m      5\u001b[0m \u001b[0mlen\u001b[0m\u001b[0;34m(\u001b[0m\u001b[0minfo\u001b[0m\u001b[0;34m)\u001b[0m\u001b[0;34m\u001b[0m\u001b[0;34m\u001b[0m\u001b[0m\n",
      "\u001b[0;32m/tmp/ipykernel_72528/3960681186.py\u001b[0m in \u001b[0;36mbrownian_v4\u001b[0;34m(iterations)\u001b[0m\n\u001b[1;32m     72\u001b[0m                 \u001b[0mtempslice\u001b[0m\u001b[0;34m=\u001b[0m\u001b[0mtemp\u001b[0m\u001b[0;34m[\u001b[0m\u001b[0mk\u001b[0m\u001b[0;34m*\u001b[0m\u001b[0mtau\u001b[0m\u001b[0;34m+\u001b[0m\u001b[0mI\u001b[0m\u001b[0;34m]\u001b[0m\u001b[0;34m-\u001b[0m\u001b[0mtemp\u001b[0m\u001b[0;34m[\u001b[0m\u001b[0mk\u001b[0m\u001b[0;34m*\u001b[0m\u001b[0mtau\u001b[0m\u001b[0;34m]\u001b[0m\u001b[0;34m\u001b[0m\u001b[0;34m\u001b[0m\u001b[0m\n\u001b[1;32m     73\u001b[0m \u001b[0;34m\u001b[0m\u001b[0m\n\u001b[0;32m---> 74\u001b[0;31m                 \u001b[0mcur2\u001b[0m\u001b[0;34m[\u001b[0m\u001b[0mj\u001b[0m\u001b[0;34m]\u001b[0m\u001b[0;34m.\u001b[0m\u001b[0mextend\u001b[0m\u001b[0;34m(\u001b[0m\u001b[0mRadius_of_circle\u001b[0m\u001b[0;34m*\u001b[0m\u001b[0mtempslice\u001b[0m\u001b[0;34m/\u001b[0m\u001b[0;34m(\u001b[0m\u001b[0mI\u001b[0m\u001b[0;34m*\u001b[0m\u001b[0mdt\u001b[0m\u001b[0;34m)\u001b[0m\u001b[0;34m)\u001b[0m\u001b[0;34m\u001b[0m\u001b[0;34m\u001b[0m\u001b[0m\n\u001b[0m\u001b[1;32m     75\u001b[0m \u001b[0;34m\u001b[0m\u001b[0m\n\u001b[1;32m     76\u001b[0m \u001b[0;34m\u001b[0m\u001b[0m\n",
      "\u001b[0;31mKeyboardInterrupt\u001b[0m: "
     ]
    }
   ],
   "source": [
    "t1=time.perf_counter()\n",
    "info=brownian_v4(1)\n",
    "print(time.perf_counter()-t1)\n",
    "\n",
    "len(info)"
   ]
  },
  {
   "cell_type": "code",
   "execution_count": 160,
   "id": "6cc1a933",
   "metadata": {
    "scrolled": false
   },
   "outputs": [
    {
     "data": {
      "text/plain": [
       "<function matplotlib.pyplot.show(close=None, block=None)>"
      ]
     },
     "execution_count": 160,
     "metadata": {},
     "output_type": "execute_result"
    },
    {
     "data": {
      "image/png": "[encoded data removed]",
      "text/plain": [
       "<Figure size 432x288 with 1 Axes>"
      ]
     },
     "metadata": {
      "needs_background": "light"
     },
     "output_type": "display_data"
    }
   ],
   "source": [
    "xvals=[]\n",
    "yvals=[]\n",
    "\n",
    "for j in range(0,3000,1):\n",
    "    cur=info[j]\n",
    "    I=l+j*Delta\n",
    "    \n",
    "    bins_manual=[]\n",
    "    for i in range(-15,30):\n",
    "        bins_manual.append(Radius_of_circle*(2*np.pi*i-np.pi)/(I*dt))\n",
    "\n",
    "    pj=np.histogram(cur, bins=bins_manual, density=True)[0]\n",
    "    pjx=np.histogram(cur, bins=bins_manual, density=True)[1]\n",
    "    pjj=[]\n",
    "    pjjx=[]\n",
    "    for i in range(len(pj)-1):\n",
    "        if pj[i]!=0:\n",
    "            pjj.append(pj[i])\n",
    "            pjjx.append((pjx[i+1]+pjx[i])/2)\n",
    "    pj2=(-1/(I*dt))*np.log(pjj)\n",
    "    \n",
    "    xvals.extend(pjjx)\n",
    "    #xvals.extend(pjjx-(pjjx[np.argmin(pj2)]-arr[0][np.argmin(arr[1])]))\n",
    "    yvals.extend(pj2-min(pj2))\n",
    "\n",
    "plt.scatter(xvals,yvals,s=10)\n",
    "plt.title('Current rate function')\n",
    "plt.xlabel('j')\n",
    "plt.ylabel('-Log[P(j)]/T')\n",
    "\n",
    "#plt.plot(xnew, ynew,'r--')\n",
    "\n",
    "plt.show"
   ]
  },
  {
   "cell_type": "code",
   "execution_count": 166,
   "id": "e3d05cc9",
   "metadata": {},
   "outputs": [
    {
     "data": {
      "text/plain": [
       "8.333333333333334"
      ]
     },
     "execution_count": 166,
     "metadata": {},
     "output_type": "execute_result"
    }
   ],
   "source": [
    "time2/3600"
   ]
  },
  {
   "cell_type": "code",
   "execution_count": 91,
   "id": "e09b091b",
   "metadata": {},
   "outputs": [
    {
     "data": {
      "text/plain": [
       "0.025000000000000133"
      ]
     },
     "execution_count": 91,
     "metadata": {},
     "output_type": "execute_result"
    }
   ],
   "source": [
    "arr[0][np.argmin(arr[1])]"
   ]
  },
  {
   "cell_type": "code",
   "execution_count": 55,
   "id": "ba5eb54e",
   "metadata": {},
   "outputs": [
    {
     "data": {
      "text/plain": [
       "<function matplotlib.pyplot.show(close=None, block=None)>"
      ]
     },
     "execution_count": 55,
     "metadata": {},
     "output_type": "execute_result"
    },
    {
     "data": {
      "image/png": "[encoded data removed]",
      "text/plain": [
       "<Figure size 432x288 with 1 Axes>"
      ]
     },
     "metadata": {
      "needs_background": "light"
     },
     "output_type": "display_data"
    }
   ],
   "source": [
    "j=500\n",
    "cur=info[j]\n",
    "\n",
    "I=l+j*Delta\n",
    "\n",
    "bins_manual=[]\n",
    "for i in range(-15,30):\n",
    "    bins_manual.append(Radius_of_circle*(2*np.pi*i-np.pi)/(I*dt))\n",
    "    \n",
    "pj=np.histogram(cur, bins=bins_manual, density=True)[0]\n",
    "pjx=np.histogram(cur, bins=bins_manual, density=True)[1]\n",
    "pjj=[]\n",
    "pjjx=[]\n",
    "for i in range(len(pj)-1):\n",
    "    if pj[i]!=0:\n",
    "        pjj.append(pj[i])\n",
    "        pjjx.append((pjx[i+1]+pjx[i])/2)\n",
    "pj2=(-1/(I*dt))*np.log(pjj)\n",
    "\n",
    "Area=np.sum(pj)*(pjx[2]-pjx[1])\n",
    "    \n",
    "#Don't divide by area or area2. Useless\n",
    "\n",
    "\n",
    "pj2=(-1/(I*dt))*np.log(pjj)\n",
    "\n",
    "\n",
    "plt.scatter(pjjx,pj2)\n",
    "plt.title('Current rate function')\n",
    "plt.xlabel('j')\n",
    "plt.ylabel('-Log[P(j)]/T')\n",
    "\n",
    "plt.show"
   ]
  },
  {
   "cell_type": "code",
   "execution_count": 46,
   "id": "4bb9c7fe",
   "metadata": {},
   "outputs": [
    {
     "data": {
      "text/plain": [
       "[-0.17135959928671599,\n",
       " -0.11423973285781067,\n",
       " -0.057119866428905326,\n",
       " 0.0,\n",
       " 0.057119866428905326,\n",
       " 0.11423973285781067,\n",
       " 0.17135959928671599,\n",
       " 0.22847946571562133,\n",
       " 0.2855993321445266,\n",
       " -0.17135959928671599,\n",
       " -0.11423973285781067,\n",
       " -0.057119866428905326,\n",
       " 0.0,\n",
       " 0.057119866428905326,\n",
       " 0.11423973285781067,\n",
       " 0.17135959928671599,\n",
       " 0.22847946571562133,\n",
       " 0.2855993321445266,\n",
       " -0.17135959928671599,\n",
       " -0.11423973285781067,\n",
       " -0.057119866428905326,\n",
       " 0.0,\n",
       " 0.057119866428905326,\n",
       " 0.11423973285781067,\n",
       " 0.17135959928671599,\n",
       " 0.22847946571562133,\n",
       " 0.2855993321445266,\n",
       " -0.17135959928671599,\n",
       " -0.11423973285781067,\n",
       " -0.057119866428905326,\n",
       " 0.0,\n",
       " 0.057119866428905326,\n",
       " 0.11423973285781067,\n",
       " 0.17135959928671599,\n",
       " 0.22847946571562133,\n",
       " 0.2855993321445266,\n",
       " -0.17135959928671599,\n",
       " -0.11423973285781067,\n",
       " -0.057119866428905326,\n",
       " 0.0,\n",
       " 0.057119866428905326,\n",
       " 0.11423973285781067,\n",
       " 0.17135959928671599,\n",
       " 0.22847946571562133,\n",
       " 0.2855993321445266,\n",
       " -0.17135959928671599,\n",
       " -0.11423973285781067,\n",
       " -0.057119866428905326,\n",
       " 0.0,\n",
       " 0.057119866428905326,\n",
       " 0.11423973285781067,\n",
       " 0.17135959928671599,\n",
       " 0.22847946571562133,\n",
       " 0.2855993321445266,\n",
       " -0.17135959928671599,\n",
       " -0.11423973285781067,\n",
       " -0.057119866428905326,\n",
       " 0.0,\n",
       " 0.057119866428905326,\n",
       " 0.11423973285781067,\n",
       " 0.17135959928671599,\n",
       " 0.22847946571562133,\n",
       " 0.2855993321445266,\n",
       " -0.17135959928671599,\n",
       " -0.11423973285781067,\n",
       " -0.057119866428905326,\n",
       " 0.0,\n",
       " 0.057119866428905326,\n",
       " 0.11423973285781067,\n",
       " 0.17135959928671599,\n",
       " 0.22847946571562133,\n",
       " 0.2855993321445266,\n",
       " -0.17135959928671599,\n",
       " -0.11423973285781067,\n",
       " -0.057119866428905326,\n",
       " 0.0,\n",
       " 0.057119866428905326,\n",
       " 0.11423973285781067,\n",
       " 0.17135959928671599,\n",
       " 0.22847946571562133,\n",
       " 0.2855993321445266,\n",
       " -0.17135959928671599,\n",
       " -0.11423973285781067,\n",
       " -0.057119866428905326,\n",
       " 0.0,\n",
       " 0.057119866428905326,\n",
       " 0.11423973285781067,\n",
       " 0.17135959928671599,\n",
       " 0.22847946571562133,\n",
       " 0.2855993321445266,\n",
       " -0.17135959928671599,\n",
       " -0.11423973285781067,\n",
       " -0.057119866428905326,\n",
       " 0.0,\n",
       " 0.057119866428905326,\n",
       " 0.11423973285781067,\n",
       " 0.17135959928671599,\n",
       " 0.22847946571562133,\n",
       " 0.2855993321445266,\n",
       " -0.17135959928671599,\n",
       " -0.11423973285781067,\n",
       " -0.057119866428905326,\n",
       " 0.0,\n",
       " 0.057119866428905326,\n",
       " 0.11423973285781067,\n",
       " 0.17135959928671599,\n",
       " 0.22847946571562133,\n",
       " 0.2855993321445266,\n",
       " -0.17135959928671599,\n",
       " -0.11423973285781067,\n",
       " -0.057119866428905326,\n",
       " 0.0,\n",
       " 0.057119866428905326,\n",
       " 0.11423973285781067,\n",
       " 0.17135959928671599,\n",
       " 0.22847946571562133,\n",
       " 0.2855993321445266,\n",
       " -0.17135959928671599,\n",
       " -0.11423973285781067,\n",
       " -0.057119866428905326,\n",
       " 0.0,\n",
       " 0.057119866428905326,\n",
       " 0.11423973285781067,\n",
       " 0.17135959928671599,\n",
       " 0.22847946571562133,\n",
       " 0.2855993321445266,\n",
       " -0.17135959928671599,\n",
       " -0.11423973285781067,\n",
       " -0.057119866428905326,\n",
       " 0.0,\n",
       " 0.057119866428905326,\n",
       " 0.11423973285781067,\n",
       " 0.17135959928671599,\n",
       " 0.22847946571562133,\n",
       " 0.2855993321445266,\n",
       " -0.17135959928671599,\n",
       " -0.11423973285781067,\n",
       " -0.057119866428905326,\n",
       " 0.0,\n",
       " 0.057119866428905326,\n",
       " 0.11423973285781067,\n",
       " 0.17135959928671599,\n",
       " 0.22847946571562133,\n",
       " 0.2855993321445266,\n",
       " -0.17135959928671599,\n",
       " -0.11423973285781067,\n",
       " -0.057119866428905326,\n",
       " 0.0,\n",
       " 0.057119866428905326,\n",
       " 0.11423973285781067,\n",
       " 0.17135959928671599,\n",
       " 0.22847946571562133,\n",
       " 0.2855993321445266,\n",
       " -0.17135959928671599,\n",
       " -0.11423973285781067,\n",
       " -0.057119866428905326,\n",
       " 0.0,\n",
       " 0.057119866428905326,\n",
       " 0.11423973285781067,\n",
       " 0.17135959928671599,\n",
       " 0.22847946571562133,\n",
       " 0.2855993321445266,\n",
       " -0.17135959928671599,\n",
       " -0.11423973285781067,\n",
       " -0.057119866428905326,\n",
       " 0.0,\n",
       " 0.057119866428905326,\n",
       " 0.11423973285781067,\n",
       " 0.17135959928671599,\n",
       " 0.22847946571562133,\n",
       " 0.2855993321445266,\n",
       " -0.17135959928671599,\n",
       " -0.11423973285781067,\n",
       " -0.057119866428905326,\n",
       " 0.0,\n",
       " 0.057119866428905326,\n",
       " 0.11423973285781067,\n",
       " 0.17135959928671599,\n",
       " 0.22847946571562133,\n",
       " 0.2855993321445266,\n",
       " -0.17135959928671599,\n",
       " -0.11423973285781067,\n",
       " -0.057119866428905326,\n",
       " 0.0,\n",
       " 0.057119866428905326,\n",
       " 0.11423973285781067,\n",
       " 0.17135959928671599,\n",
       " 0.22847946571562133,\n",
       " 0.2855993321445266,\n",
       " -0.17135959928671599,\n",
       " -0.11423973285781067,\n",
       " -0.057119866428905326,\n",
       " 0.0,\n",
       " 0.057119866428905326,\n",
       " 0.11423973285781067,\n",
       " 0.17135959928671599,\n",
       " 0.22847946571562133,\n",
       " 0.2855993321445266,\n",
       " -0.17135959928671599,\n",
       " -0.11423973285781067,\n",
       " -0.057119866428905326,\n",
       " 0.0,\n",
       " 0.057119866428905326,\n",
       " 0.11423973285781067,\n",
       " 0.17135959928671599,\n",
       " 0.22847946571562133,\n",
       " 0.2855993321445266,\n",
       " -0.17135959928671599,\n",
       " -0.11423973285781067,\n",
       " -0.057119866428905326,\n",
       " 0.0,\n",
       " 0.057119866428905326,\n",
       " 0.11423973285781067,\n",
       " 0.17135959928671599,\n",
       " 0.22847946571562133,\n",
       " 0.2855993321445266,\n",
       " -0.17135959928671599,\n",
       " -0.11423973285781067,\n",
       " -0.057119866428905326,\n",
       " 0.0,\n",
       " 0.057119866428905326,\n",
       " 0.11423973285781067,\n",
       " 0.17135959928671599,\n",
       " 0.22847946571562133,\n",
       " 0.2855993321445266,\n",
       " -0.17135959928671599,\n",
       " -0.11423973285781067,\n",
       " -0.057119866428905326,\n",
       " 0.0,\n",
       " 0.057119866428905326,\n",
       " 0.11423973285781067,\n",
       " 0.17135959928671599,\n",
       " 0.22847946571562133,\n",
       " 0.2855993321445266,\n",
       " -0.17135959928671599,\n",
       " -0.11423973285781067,\n",
       " -0.057119866428905326,\n",
       " 0.0,\n",
       " 0.057119866428905326,\n",
       " 0.11423973285781067,\n",
       " 0.17135959928671599,\n",
       " 0.22847946571562133,\n",
       " 0.2855993321445266,\n",
       " -0.17135959928671599,\n",
       " -0.11423973285781067,\n",
       " -0.057119866428905326,\n",
       " 0.0,\n",
       " 0.057119866428905326,\n",
       " 0.11423973285781067,\n",
       " 0.17135959928671599,\n",
       " 0.22847946571562133,\n",
       " 0.2855993321445266,\n",
       " -0.17135959928671599,\n",
       " -0.11423973285781067,\n",
       " -0.057119866428905326,\n",
       " 0.0,\n",
       " 0.057119866428905326,\n",
       " 0.11423973285781067,\n",
       " 0.17135959928671599,\n",
       " 0.22847946571562133,\n",
       " 0.2855993321445266,\n",
       " -0.17135959928671599,\n",
       " -0.11423973285781067,\n",
       " -0.057119866428905326,\n",
       " 0.0,\n",
       " 0.057119866428905326,\n",
       " 0.11423973285781067,\n",
       " 0.17135959928671599,\n",
       " 0.22847946571562133,\n",
       " 0.2855993321445266,\n",
       " -0.17135959928671599,\n",
       " -0.11423973285781067,\n",
       " -0.057119866428905326,\n",
       " 0.0,\n",
       " 0.057119866428905326,\n",
       " 0.11423973285781067,\n",
       " 0.17135959928671599,\n",
       " 0.22847946571562133,\n",
       " 0.2855993321445266,\n",
       " -0.17135959928671599,\n",
       " -0.11423973285781067,\n",
       " -0.057119866428905326,\n",
       " 0.0,\n",
       " 0.057119866428905326,\n",
       " 0.11423973285781067,\n",
       " 0.17135959928671599,\n",
       " 0.22847946571562133,\n",
       " 0.2855993321445266,\n",
       " -0.17135959928671599,\n",
       " -0.11423973285781067,\n",
       " -0.057119866428905326,\n",
       " 0.0,\n",
       " 0.057119866428905326,\n",
       " 0.11423973285781067,\n",
       " 0.17135959928671599,\n",
       " 0.22847946571562133,\n",
       " 0.2855993321445266,\n",
       " -0.17135959928671599,\n",
       " -0.11423973285781067,\n",
       " -0.057119866428905326,\n",
       " 0.0,\n",
       " 0.057119866428905326,\n",
       " 0.11423973285781067,\n",
       " 0.17135959928671599,\n",
       " 0.22847946571562133,\n",
       " 0.2855993321445266,\n",
       " -0.17135959928671599,\n",
       " -0.11423973285781067,\n",
       " -0.057119866428905326,\n",
       " 0.0,\n",
       " 0.057119866428905326,\n",
       " 0.11423973285781067,\n",
       " 0.17135959928671599,\n",
       " 0.22847946571562133,\n",
       " 0.2855993321445266,\n",
       " -0.17135959928671599,\n",
       " -0.11423973285781067,\n",
       " -0.057119866428905326,\n",
       " 0.0,\n",
       " 0.057119866428905326,\n",
       " 0.11423973285781067,\n",
       " 0.17135959928671599,\n",
       " 0.22847946571562133,\n",
       " 0.2855993321445266,\n",
       " -0.17135959928671599,\n",
       " -0.11423973285781067,\n",
       " -0.057119866428905326,\n",
       " 0.0,\n",
       " 0.057119866428905326,\n",
       " 0.11423973285781067,\n",
       " 0.17135959928671599,\n",
       " 0.22847946571562133,\n",
       " 0.2855993321445266,\n",
       " -0.17135959928671599,\n",
       " -0.11423973285781067,\n",
       " -0.057119866428905326,\n",
       " 0.0,\n",
       " 0.057119866428905326,\n",
       " 0.11423973285781067,\n",
       " 0.17135959928671599,\n",
       " 0.22847946571562133,\n",
       " 0.2855993321445266,\n",
       " -0.17135959928671599,\n",
       " -0.11423973285781067,\n",
       " -0.057119866428905326,\n",
       " 0.0,\n",
       " 0.057119866428905326,\n",
       " 0.11423973285781067,\n",
       " 0.17135959928671599,\n",
       " 0.22847946571562133,\n",
       " 0.2855993321445266,\n",
       " -0.17135959928671599,\n",
       " -0.11423973285781067,\n",
       " -0.057119866428905326,\n",
       " 0.0,\n",
       " 0.057119866428905326,\n",
       " 0.11423973285781067,\n",
       " 0.17135959928671599,\n",
       " 0.22847946571562133,\n",
       " 0.2855993321445266,\n",
       " -0.17135959928671599,\n",
       " -0.11423973285781067,\n",
       " -0.057119866428905326,\n",
       " 0.0,\n",
       " 0.057119866428905326,\n",
       " 0.11423973285781067,\n",
       " 0.17135959928671599,\n",
       " 0.22847946571562133,\n",
       " 0.2855993321445266,\n",
       " -0.17135959928671599,\n",
       " -0.11423973285781067,\n",
       " -0.057119866428905326,\n",
       " 0.0,\n",
       " 0.057119866428905326,\n",
       " 0.11423973285781067,\n",
       " 0.17135959928671599,\n",
       " 0.22847946571562133,\n",
       " 0.2855993321445266,\n",
       " -0.17135959928671599,\n",
       " -0.11423973285781067,\n",
       " -0.057119866428905326,\n",
       " 0.0,\n",
       " 0.057119866428905326,\n",
       " 0.11423973285781067,\n",
       " 0.17135959928671599,\n",
       " 0.22847946571562133,\n",
       " 0.2855993321445266,\n",
       " -0.17135959928671599,\n",
       " -0.11423973285781067,\n",
       " -0.057119866428905326,\n",
       " 0.0,\n",
       " 0.057119866428905326,\n",
       " 0.11423973285781067,\n",
       " 0.17135959928671599,\n",
       " 0.22847946571562133,\n",
       " 0.2855993321445266,\n",
       " -0.17135959928671599,\n",
       " -0.11423973285781067,\n",
       " -0.057119866428905326,\n",
       " 0.0,\n",
       " 0.057119866428905326,\n",
       " 0.11423973285781067,\n",
       " 0.17135959928671599,\n",
       " 0.22847946571562133,\n",
       " 0.2855993321445266,\n",
       " -0.17135959928671599,\n",
       " -0.11423973285781067,\n",
       " -0.057119866428905326,\n",
       " 0.0,\n",
       " 0.057119866428905326,\n",
       " 0.11423973285781067,\n",
       " 0.17135959928671599,\n",
       " 0.22847946571562133,\n",
       " 0.2855993321445266,\n",
       " -0.17135959928671599,\n",
       " -0.11423973285781067,\n",
       " -0.057119866428905326,\n",
       " 0.0,\n",
       " 0.057119866428905326,\n",
       " 0.11423973285781067,\n",
       " 0.17135959928671599,\n",
       " 0.22847946571562133,\n",
       " 0.2855993321445266,\n",
       " -0.17135959928671599,\n",
       " -0.11423973285781067,\n",
       " -0.057119866428905326,\n",
       " 0.0,\n",
       " 0.057119866428905326,\n",
       " 0.11423973285781067,\n",
       " 0.17135959928671599,\n",
       " 0.22847946571562133,\n",
       " 0.2855993321445266,\n",
       " -0.17135959928671599,\n",
       " -0.11423973285781067,\n",
       " -0.057119866428905326,\n",
       " 0.0,\n",
       " 0.057119866428905326,\n",
       " 0.11423973285781067,\n",
       " 0.17135959928671599,\n",
       " 0.22847946571562133,\n",
       " 0.2855993321445266,\n",
       " -0.17135959928671599,\n",
       " -0.11423973285781067,\n",
       " -0.057119866428905326,\n",
       " 0.0,\n",
       " 0.057119866428905326,\n",
       " 0.11423973285781067,\n",
       " 0.17135959928671599,\n",
       " 0.22847946571562133,\n",
       " 0.2855993321445266,\n",
       " -0.17135959928671599,\n",
       " -0.11423973285781067,\n",
       " -0.057119866428905326,\n",
       " 0.0,\n",
       " 0.057119866428905326,\n",
       " 0.11423973285781067,\n",
       " 0.17135959928671599,\n",
       " 0.22847946571562133,\n",
       " 0.2855993321445266,\n",
       " -0.17135959928671599,\n",
       " -0.11423973285781067,\n",
       " -0.057119866428905326,\n",
       " 0.0,\n",
       " 0.057119866428905326,\n",
       " 0.11423973285781067,\n",
       " 0.17135959928671599,\n",
       " 0.22847946571562133,\n",
       " 0.2855993321445266,\n",
       " -0.17135959928671599,\n",
       " -0.11423973285781067,\n",
       " -0.057119866428905326,\n",
       " 0.0,\n",
       " 0.057119866428905326,\n",
       " 0.11423973285781067,\n",
       " 0.17135959928671599,\n",
       " 0.22847946571562133,\n",
       " 0.2855993321445266,\n",
       " -0.17135959928671599,\n",
       " -0.11423973285781067,\n",
       " -0.057119866428905326,\n",
       " 0.0,\n",
       " 0.057119866428905326,\n",
       " 0.11423973285781067,\n",
       " 0.17135959928671599,\n",
       " 0.22847946571562133,\n",
       " 0.2855993321445266,\n",
       " -0.17135959928671599,\n",
       " -0.11423973285781067,\n",
       " -0.057119866428905326,\n",
       " 0.0,\n",
       " 0.057119866428905326,\n",
       " 0.11423973285781067,\n",
       " 0.17135959928671599,\n",
       " 0.22847946571562133,\n",
       " 0.2855993321445266,\n",
       " -0.17135959928671599,\n",
       " -0.11423973285781067,\n",
       " -0.057119866428905326,\n",
       " 0.0,\n",
       " 0.057119866428905326,\n",
       " 0.11423973285781067,\n",
       " 0.17135959928671599,\n",
       " 0.22847946571562133,\n",
       " 0.2855993321445266,\n",
       " -0.17135959928671599,\n",
       " -0.11423973285781067,\n",
       " -0.057119866428905326,\n",
       " 0.0,\n",
       " 0.057119866428905326,\n",
       " 0.11423973285781067,\n",
       " 0.17135959928671599,\n",
       " 0.22847946571562133,\n",
       " 0.2855993321445266,\n",
       " -0.17135959928671599,\n",
       " -0.11423973285781067,\n",
       " -0.057119866428905326,\n",
       " 0.0,\n",
       " 0.057119866428905326,\n",
       " 0.11423973285781067,\n",
       " 0.17135959928671599,\n",
       " 0.22847946571562133,\n",
       " 0.2855993321445266,\n",
       " -0.17135959928671599,\n",
       " -0.11423973285781067,\n",
       " -0.057119866428905326,\n",
       " 0.0,\n",
       " 0.057119866428905326,\n",
       " 0.11423973285781067,\n",
       " 0.17135959928671599,\n",
       " 0.22847946571562133,\n",
       " 0.2855993321445266,\n",
       " -0.17135959928671599,\n",
       " -0.11423973285781067,\n",
       " -0.057119866428905326,\n",
       " 0.0,\n",
       " 0.057119866428905326,\n",
       " 0.11423973285781067,\n",
       " 0.17135959928671599,\n",
       " 0.22847946571562133,\n",
       " 0.2855993321445266,\n",
       " -0.17135959928671599,\n",
       " -0.11423973285781067,\n",
       " -0.057119866428905326,\n",
       " 0.0,\n",
       " 0.057119866428905326,\n",
       " 0.11423973285781067,\n",
       " 0.17135959928671599,\n",
       " 0.22847946571562133,\n",
       " 0.2855993321445266,\n",
       " -0.17135959928671599,\n",
       " -0.11423973285781067,\n",
       " -0.057119866428905326,\n",
       " 0.0,\n",
       " 0.057119866428905326,\n",
       " 0.11423973285781067,\n",
       " 0.17135959928671599,\n",
       " 0.22847946571562133,\n",
       " 0.2855993321445266,\n",
       " -0.17135959928671599,\n",
       " -0.11423973285781067,\n",
       " -0.057119866428905326,\n",
       " 0.0,\n",
       " 0.057119866428905326,\n",
       " 0.11423973285781067,\n",
       " 0.17135959928671599,\n",
       " 0.22847946571562133,\n",
       " 0.2855993321445266,\n",
       " -0.17135959928671599,\n",
       " -0.11423973285781067,\n",
       " -0.057119866428905326,\n",
       " 0.0,\n",
       " 0.057119866428905326,\n",
       " 0.11423973285781067,\n",
       " 0.17135959928671599,\n",
       " 0.22847946571562133,\n",
       " 0.2855993321445266,\n",
       " -0.17135959928671599,\n",
       " -0.11423973285781067,\n",
       " -0.057119866428905326,\n",
       " 0.0,\n",
       " 0.057119866428905326,\n",
       " 0.11423973285781067,\n",
       " 0.17135959928671599,\n",
       " 0.22847946571562133,\n",
       " 0.2855993321445266,\n",
       " -0.17135959928671599,\n",
       " -0.11423973285781067,\n",
       " -0.057119866428905326,\n",
       " 0.0,\n",
       " 0.057119866428905326,\n",
       " 0.11423973285781067,\n",
       " 0.17135959928671599,\n",
       " 0.22847946571562133,\n",
       " 0.2855993321445266,\n",
       " -0.17135959928671599,\n",
       " -0.11423973285781067,\n",
       " -0.057119866428905326,\n",
       " 0.0,\n",
       " 0.057119866428905326,\n",
       " 0.11423973285781067,\n",
       " 0.17135959928671599,\n",
       " 0.22847946571562133,\n",
       " 0.2855993321445266,\n",
       " -0.17135959928671599,\n",
       " -0.11423973285781067,\n",
       " -0.057119866428905326,\n",
       " 0.0,\n",
       " 0.057119866428905326,\n",
       " 0.11423973285781067,\n",
       " 0.17135959928671599,\n",
       " 0.22847946571562133,\n",
       " 0.2855993321445266,\n",
       " -0.17135959928671599,\n",
       " -0.11423973285781067,\n",
       " -0.057119866428905326,\n",
       " 0.0,\n",
       " 0.057119866428905326,\n",
       " 0.11423973285781067,\n",
       " 0.17135959928671599,\n",
       " 0.22847946571562133,\n",
       " 0.2855993321445266,\n",
       " -0.17135959928671599,\n",
       " -0.11423973285781067,\n",
       " -0.057119866428905326,\n",
       " 0.0,\n",
       " 0.057119866428905326,\n",
       " 0.11423973285781067,\n",
       " 0.17135959928671599,\n",
       " 0.22847946571562133,\n",
       " 0.2855993321445266,\n",
       " -0.17135959928671599,\n",
       " -0.11423973285781067,\n",
       " -0.057119866428905326,\n",
       " 0.0,\n",
       " 0.057119866428905326,\n",
       " 0.11423973285781067,\n",
       " 0.17135959928671599,\n",
       " 0.22847946571562133,\n",
       " 0.2855993321445266,\n",
       " -0.17135959928671599,\n",
       " -0.11423973285781067,\n",
       " -0.057119866428905326,\n",
       " 0.0,\n",
       " 0.057119866428905326,\n",
       " 0.11423973285781067,\n",
       " 0.17135959928671599,\n",
       " 0.22847946571562133,\n",
       " 0.2855993321445266,\n",
       " -0.17135959928671599,\n",
       " -0.11423973285781067,\n",
       " -0.057119866428905326,\n",
       " 0.0,\n",
       " 0.057119866428905326,\n",
       " 0.11423973285781067,\n",
       " 0.17135959928671599,\n",
       " 0.22847946571562133,\n",
       " 0.2855993321445266,\n",
       " -0.17135959928671599,\n",
       " -0.11423973285781067,\n",
       " -0.057119866428905326,\n",
       " 0.0,\n",
       " 0.057119866428905326,\n",
       " 0.11423973285781067,\n",
       " 0.17135959928671599,\n",
       " 0.22847946571562133,\n",
       " 0.2855993321445266,\n",
       " -0.17135959928671599,\n",
       " -0.11423973285781067,\n",
       " -0.057119866428905326,\n",
       " 0.0,\n",
       " 0.057119866428905326,\n",
       " 0.11423973285781067,\n",
       " 0.17135959928671599,\n",
       " 0.22847946571562133,\n",
       " 0.2855993321445266,\n",
       " -0.17135959928671599,\n",
       " -0.11423973285781067,\n",
       " -0.057119866428905326,\n",
       " 0.0,\n",
       " 0.057119866428905326,\n",
       " 0.11423973285781067,\n",
       " 0.17135959928671599,\n",
       " 0.22847946571562133,\n",
       " 0.2855993321445266,\n",
       " -0.17135959928671599,\n",
       " -0.11423973285781067,\n",
       " -0.057119866428905326,\n",
       " 0.0,\n",
       " 0.057119866428905326,\n",
       " 0.11423973285781067,\n",
       " 0.17135959928671599,\n",
       " 0.22847946571562133,\n",
       " 0.2855993321445266,\n",
       " -0.17135959928671599,\n",
       " -0.11423973285781067,\n",
       " -0.057119866428905326,\n",
       " 0.0,\n",
       " 0.057119866428905326,\n",
       " 0.11423973285781067,\n",
       " 0.17135959928671599,\n",
       " 0.22847946571562133,\n",
       " 0.2855993321445266,\n",
       " -0.17135959928671599,\n",
       " -0.11423973285781067,\n",
       " -0.057119866428905326,\n",
       " 0.0,\n",
       " 0.057119866428905326,\n",
       " 0.11423973285781067,\n",
       " 0.17135959928671599,\n",
       " 0.22847946571562133,\n",
       " 0.2855993321445266,\n",
       " -0.17135959928671599,\n",
       " -0.11423973285781067,\n",
       " -0.057119866428905326,\n",
       " 0.0,\n",
       " 0.057119866428905326,\n",
       " 0.11423973285781067,\n",
       " 0.17135959928671599,\n",
       " 0.22847946571562133,\n",
       " 0.2855993321445266,\n",
       " -0.17135959928671599,\n",
       " -0.11423973285781067,\n",
       " -0.057119866428905326,\n",
       " 0.0,\n",
       " 0.057119866428905326,\n",
       " 0.11423973285781067,\n",
       " 0.17135959928671599,\n",
       " 0.22847946571562133,\n",
       " 0.2855993321445266,\n",
       " -0.17135959928671599,\n",
       " -0.11423973285781067,\n",
       " -0.057119866428905326,\n",
       " 0.0,\n",
       " 0.057119866428905326,\n",
       " 0.11423973285781067,\n",
       " 0.17135959928671599,\n",
       " 0.22847946571562133,\n",
       " 0.2855993321445266,\n",
       " -0.17135959928671599,\n",
       " -0.11423973285781067,\n",
       " -0.057119866428905326,\n",
       " 0.0,\n",
       " 0.057119866428905326,\n",
       " 0.11423973285781067,\n",
       " 0.17135959928671599,\n",
       " 0.22847946571562133,\n",
       " 0.2855993321445266,\n",
       " -0.17135959928671599,\n",
       " -0.11423973285781067,\n",
       " -0.057119866428905326,\n",
       " 0.0,\n",
       " 0.057119866428905326,\n",
       " 0.11423973285781067,\n",
       " 0.17135959928671599,\n",
       " 0.22847946571562133,\n",
       " 0.2855993321445266,\n",
       " -0.17135959928671599,\n",
       " -0.11423973285781067,\n",
       " -0.057119866428905326,\n",
       " 0.0,\n",
       " 0.057119866428905326,\n",
       " 0.11423973285781067,\n",
       " 0.17135959928671599,\n",
       " 0.22847946571562133,\n",
       " 0.2855993321445266,\n",
       " -0.17135959928671599,\n",
       " -0.11423973285781067,\n",
       " -0.057119866428905326,\n",
       " 0.0,\n",
       " 0.057119866428905326,\n",
       " 0.11423973285781067,\n",
       " 0.17135959928671599,\n",
       " 0.22847946571562133,\n",
       " 0.2855993321445266,\n",
       " -0.17135959928671599,\n",
       " -0.11423973285781067,\n",
       " -0.057119866428905326,\n",
       " 0.0,\n",
       " 0.057119866428905326,\n",
       " 0.11423973285781067,\n",
       " 0.17135959928671599,\n",
       " 0.22847946571562133,\n",
       " 0.2855993321445266,\n",
       " -0.17135959928671599,\n",
       " -0.11423973285781067,\n",
       " -0.057119866428905326,\n",
       " 0.0,\n",
       " 0.057119866428905326,\n",
       " 0.11423973285781067,\n",
       " 0.17135959928671599,\n",
       " 0.22847946571562133,\n",
       " 0.2855993321445266,\n",
       " -0.17135959928671599,\n",
       " -0.11423973285781067,\n",
       " -0.057119866428905326,\n",
       " 0.0,\n",
       " 0.057119866428905326,\n",
       " 0.11423973285781067,\n",
       " 0.17135959928671599,\n",
       " 0.22847946571562133,\n",
       " 0.2855993321445266,\n",
       " -0.17135959928671599,\n",
       " -0.11423973285781067,\n",
       " -0.057119866428905326,\n",
       " 0.0,\n",
       " 0.057119866428905326,\n",
       " 0.11423973285781067,\n",
       " 0.17135959928671599,\n",
       " 0.22847946571562133,\n",
       " 0.2855993321445266,\n",
       " -0.17135959928671599,\n",
       " -0.11423973285781067,\n",
       " -0.057119866428905326,\n",
       " 0.0,\n",
       " 0.057119866428905326,\n",
       " 0.11423973285781067,\n",
       " 0.17135959928671599,\n",
       " 0.22847946571562133,\n",
       " 0.2855993321445266,\n",
       " -0.17135959928671599,\n",
       " -0.11423973285781067,\n",
       " -0.057119866428905326,\n",
       " 0.0,\n",
       " 0.057119866428905326,\n",
       " 0.11423973285781067,\n",
       " 0.17135959928671599,\n",
       " 0.22847946571562133,\n",
       " 0.2855993321445266,\n",
       " -0.17135959928671599,\n",
       " -0.11423973285781067,\n",
       " -0.057119866428905326,\n",
       " 0.0,\n",
       " 0.057119866428905326,\n",
       " 0.11423973285781067,\n",
       " 0.17135959928671599,\n",
       " 0.22847946571562133,\n",
       " 0.2855993321445266,\n",
       " -0.17135959928671599,\n",
       " -0.11423973285781067,\n",
       " -0.057119866428905326,\n",
       " 0.0,\n",
       " 0.057119866428905326,\n",
       " 0.11423973285781067,\n",
       " 0.17135959928671599,\n",
       " 0.22847946571562133,\n",
       " 0.2855993321445266,\n",
       " -0.17135959928671599,\n",
       " -0.11423973285781067,\n",
       " -0.057119866428905326,\n",
       " 0.0,\n",
       " 0.057119866428905326,\n",
       " 0.11423973285781067,\n",
       " 0.17135959928671599,\n",
       " 0.22847946571562133,\n",
       " 0.2855993321445266,\n",
       " -0.17135959928671599,\n",
       " -0.11423973285781067,\n",
       " -0.057119866428905326,\n",
       " 0.0,\n",
       " 0.057119866428905326,\n",
       " 0.11423973285781067,\n",
       " 0.17135959928671599,\n",
       " 0.22847946571562133,\n",
       " 0.2855993321445266,\n",
       " -0.17135959928671599,\n",
       " -0.11423973285781067,\n",
       " -0.057119866428905326,\n",
       " 0.0,\n",
       " 0.057119866428905326,\n",
       " 0.11423973285781067,\n",
       " 0.17135959928671599,\n",
       " 0.22847946571562133,\n",
       " 0.2855993321445266,\n",
       " -0.17135959928671599,\n",
       " -0.11423973285781067,\n",
       " -0.057119866428905326,\n",
       " 0.0,\n",
       " 0.057119866428905326,\n",
       " 0.11423973285781067,\n",
       " 0.17135959928671599,\n",
       " 0.22847946571562133,\n",
       " 0.2855993321445266,\n",
       " -0.17135959928671599,\n",
       " -0.11423973285781067,\n",
       " -0.057119866428905326,\n",
       " 0.0,\n",
       " 0.057119866428905326,\n",
       " 0.11423973285781067,\n",
       " 0.17135959928671599,\n",
       " 0.22847946571562133,\n",
       " 0.2855993321445266]"
      ]
     },
     "execution_count": 46,
     "metadata": {},
     "output_type": "execute_result"
    }
   ],
   "source": [
    "xvals"
   ]
  },
  {
   "cell_type": "code",
   "execution_count": 19,
   "id": "53112065",
   "metadata": {
    "scrolled": false
   },
   "outputs": [
    {
     "data": {
      "image/png": "[encoded data removed]",
      "text/plain": [
       "<Figure size 432x288 with 1 Axes>"
      ]
     },
     "metadata": {
      "needs_background": "light"
     },
     "output_type": "display_data"
    }
   ],
   "source": [
    "bins_manual=[]\n",
    "for i in range(-15,30):\n",
    "    bins_manual.append((2*np.pi*i-np.pi)/time2)   #data[2][4] is time\n",
    "\n",
    "fig2 = plt.figure(2)\n",
    "#plt.hist(cur, bins=5000, density=True)\n",
    "plt.hist(cur, bins=bins_manual,density=True)\n",
    "plt.title('Probability of current')\n",
    "plt.xlabel('$j$')\n",
    "plt.ylabel('$P(j)$')\n",
    "plt.yscale('log')\n",
    "\n",
    "plt.show()"
   ]
  },
  {
   "cell_type": "code",
   "execution_count": 28,
   "id": "c3123ca8",
   "metadata": {
    "scrolled": true
   },
   "outputs": [
    {
     "data": {
      "text/plain": [
       "<function matplotlib.pyplot.show(close=None, block=None)>"
      ]
     },
     "execution_count": 28,
     "metadata": {},
     "output_type": "execute_result"
    },
    {
     "data": {
      "image/png": "[encoded data removed]",
      "text/plain": [
       "<Figure size 432x288 with 1 Axes>"
      ]
     },
     "metadata": {
      "needs_background": "light"
     },
     "output_type": "display_data"
    }
   ],
   "source": [
    "bins_manual=[]\n",
    "for i in range(-15,30):\n",
    "    bins_manual.append(Radius_of_circle*(2*np.pi*i-np.pi)/time2)\n",
    "    \n",
    "pj=np.histogram(info[5], bins=bins_manual, density=True)[0]\n",
    "pjx=np.histogram(info[5], bins=bins_manual, density=True)[1]\n",
    "pjj=[]\n",
    "pjjx=[]\n",
    "for i in range(len(pj)-1):\n",
    "    if pj[i]!=0:\n",
    "        pjj.append(pj[i])\n",
    "        pjjx.append((pjx[i+1]+pjx[i])/2)\n",
    "pj2=(-1/time2)*np.log(pjj)\n",
    "\n",
    "Area=np.sum(pj)*(pjx[2]-pjx[1])\n",
    "    \n",
    "#Don't divide by area or area2. Useless\n",
    "\n",
    "\n",
    "pj2=(-1/time2)*np.log(pjj)\n",
    "\n",
    "\n",
    "plt.scatter(pjjx,pj2)\n",
    "plt.title('Current rate function')\n",
    "plt.xlabel('j')\n",
    "plt.ylabel('-Log[P(j)]/T')\n",
    "\n",
    "plt.show"
   ]
  },
  {
   "cell_type": "code",
   "execution_count": 160,
   "id": "2f2a2f89",
   "metadata": {},
   "outputs": [
    {
     "data": {
      "text/plain": [
       "1.000000000000001"
      ]
     },
     "execution_count": 160,
     "metadata": {},
     "output_type": "execute_result"
    }
   ],
   "source": [
    "Area"
   ]
  },
  {
   "cell_type": "code",
   "execution_count": 21,
   "id": "b7603320",
   "metadata": {
    "scrolled": false
   },
   "outputs": [
    {
     "data": {
      "text/plain": [
       "<function matplotlib.pyplot.show(close=None, block=None)>"
      ]
     },
     "execution_count": 21,
     "metadata": {},
     "output_type": "execute_result"
    },
    {
     "data": {
      "image/png": "[encoded data removed]",
      "text/plain": [
       "<Figure size 432x288 with 1 Axes>"
      ]
     },
     "metadata": {
      "needs_background": "light"
     },
     "output_type": "display_data"
    }
   ],
   "source": [
    "plt.scatter(pjjx,pj2)\n",
    "plt.title('Current rate function')\n",
    "plt.xlabel('j')\n",
    "plt.ylabel('-Log[P(j)]/T')\n",
    "\n",
    "plt.show"
   ]
  },
  {
   "cell_type": "code",
   "execution_count": 35,
   "id": "20325a0e",
   "metadata": {},
   "outputs": [
    {
     "data": {
      "text/plain": [
       "[-0.15707963267948966,\n",
       " -0.07853981633974483,\n",
       " 0.0,\n",
       " 0.07853981633974483,\n",
       " 0.15707963267948966,\n",
       " 0.23561944901923448]"
      ]
     },
     "execution_count": 35,
     "metadata": {},
     "output_type": "execute_result"
    }
   ],
   "source": [
    "pjjx"
   ]
  },
  {
   "cell_type": "code",
   "execution_count": 210,
   "id": "9a2949ba",
   "metadata": {},
   "outputs": [
    {
     "data": {
      "text/plain": [
       "-0.02510343640535555"
      ]
     },
     "execution_count": 210,
     "metadata": {},
     "output_type": "execute_result"
    }
   ],
   "source": [
    "min(cur)"
   ]
  },
  {
   "cell_type": "code",
   "execution_count": 55,
   "id": "0bab5f44",
   "metadata": {
    "code_folding": [
     7
    ]
   },
   "outputs": [],
   "source": [
    "import numpy as np\n",
    "import random, matplotlib.pyplot as plt, time, math\n",
    "\n",
    "gamma,Radius_of_circle=1,1\n",
    "\n",
    "ram0=1024\n",
    "\n",
    "def brownian_v2(sigma,drift,potential_constant,iterations,time):\n",
    "    #gamma=1.380649*(10**(-23))*300/diffusion\n",
    "    pos=np.zeros((iterations,ram0))\n",
    "    cur=np.zeros((iterations,ram0))\n",
    "    A=np.zeros(ram0)\n",
    "    B=np.zeros(ram0)\n",
    "    C=[sigma, drift, potential_constant, iterations,time]\n",
    "    intial_pos=-np.arcsin(-Radius_of_circle*drift/potential_constant)+np.pi\n",
    "    theta0=np.full(ram0,intial_pos) \n",
    "    #use above theta0 for f<V0. For f>V0, use below theta0\n",
    "    #theta0=np.pi/2\n",
    "    theta=np.full(ram0,theta0)\n",
    "    theta2=np.zeros(ram0)\n",
    "    dt=0.1 #time increment\n",
    "    T=int(time/dt) #Total time\n",
    "    std=np.sqrt(dt*sigma)\n",
    "    prefactor=1/(gamma*Radius_of_circle)\n",
    "    for n in range(iterations):\n",
    "        #D=np.zeros(T)\n",
    "        #D[0]=intial_pos\n",
    "        \n",
    "        for i in range(T):\n",
    "            #D[i]=theta[0]-theta0[0]\n",
    "            theta+=prefactor*(np.random.normal(0,std, ram0)+(drift-potential_constant*(np.sin(theta))/Radius_of_circle)*dt)\n",
    "            \n",
    "        for k in range(len(theta)):\n",
    "            if -np.pi<theta[k]<=np.pi:\n",
    "                theta2[k]=theta[k]\n",
    "            else:\n",
    "                theta2[k]=-np.sign(theta[k])*np.pi+theta[k]-np.pi-int((theta[k]-np.pi)/(2*np.pi))*2*np.pi   \n",
    "        pos[n]=theta2\n",
    "        cur[n]=Radius_of_circle*(theta-theta0)/time\n",
    "        \n",
    "        theta=np.full(ram0,theta0)\n",
    "\n",
    "    pos=pos.flatten()\n",
    "    cur=cur.flatten()\n",
    "    \n",
    "    return pos,cur,C,#D"
   ]
  },
  {
   "cell_type": "code",
   "execution_count": 104,
   "id": "47879a92",
   "metadata": {},
   "outputs": [
    {
     "name": "stdout",
     "output_type": "stream",
     "text": [
      "0.5873084320046473\n"
     ]
    }
   ],
   "source": [
    "t1=time.perf_counter()\n",
    "data=brownian_v2(0.3,0.1,1,256,3)\n",
    "print(time.perf_counter()-t1)"
   ]
  },
  {
   "cell_type": "code",
   "execution_count": 105,
   "id": "04cd899e",
   "metadata": {},
   "outputs": [
    {
     "data": {
      "image/png": "[encoded data removed]",
      "text/plain": [
       "<Figure size 432x288 with 1 Axes>"
      ]
     },
     "metadata": {
      "needs_background": "light"
     },
     "output_type": "display_data"
    }
   ],
   "source": [
    "qj=plt.hist(data[0], bins=80, density=True)[0]\n",
    "qjx=plt.hist(data[0], bins=80, density=True)[1]\n",
    "qjj=[]\n",
    "qjjx=[]\n",
    "for i in range(len(qj)-1):\n",
    "    if qj[i]!=0:\n",
    "        qjj.append(qj[i])\n",
    "        qjjx.append((qjx[i+1]+qjx[i])/2\n",
    "qj2=(-1e-1)*np.log(qjj)"
   ]
  },
  {
   "cell_type": "code",
   "execution_count": 101,
   "id": "9d0648ee",
   "metadata": {},
   "outputs": [
    {
     "data": {
      "text/plain": [
       "<function matplotlib.pyplot.show(close=None, block=None)>"
      ]
     },
     "execution_count": 101,
     "metadata": {},
     "output_type": "execute_result"
    },
    {
     "data": {
      "image/png": "[encoded data removed]",
      "text/plain": [
       "<Figure size 432x288 with 1 Axes>"
      ]
     },
     "metadata": {
      "needs_background": "light"
     },
     "output_type": "display_data"
    }
   ],
   "source": [
    "jupyter nbextension enable codefolding/mainplt.scatter(qjjx,qj2)\n",
    "plt.title('Position distribution')\n",
    "plt.xlabel('x')\n",
    "plt.ylabel('-Log[P(x)]/T')\n",
    "\n",
    "plt.show"
   ]
  },
  {
   "cell_type": "code",
   "execution_count": 25,
   "id": "813d5ae3",
   "metadata": {},
   "outputs": [
    {
     "data": {
      "text/plain": [
       "-0.23849806549897842"
      ]
     },
     "execution_count": 25,
     "metadata": {},
     "output_type": "execute_result"
    }
   ],
   "source": [
    "min(cur)"
   ]
  },
  {
   "cell_type": "code",
   "execution_count": 9,
   "id": "38d16e65",
   "metadata": {},
   "outputs": [
    {
     "name": "stdout",
     "output_type": "stream",
     "text": [
      "20\n"
     ]
    }
   ],
   "source": [
    "print(len(bins_manual))"
   ]
  },
  {
   "cell_type": "code",
   "execution_count": 58,
   "id": "14527bd7",
   "metadata": {},
   "outputs": [
    {
     "data": {
      "text/plain": [
       "3.241760074751353"
      ]
     },
     "execution_count": 58,
     "metadata": {},
     "output_type": "execute_result"
    }
   ],
   "source": [
    "-np.arcsin(-Radius_of_circle*0.1/1)+np.pi"
   ]
  },
  {
   "cell_type": "code",
   "execution_count": 2,
   "id": "3eb86aa5",
   "metadata": {},
   "outputs": [
    {
     "ename": "NameError",
     "evalue": "name 'plt' is not defined",
     "output_type": "error",
     "traceback": [
      "\u001b[0;31m---------------------------------------------------------------------------\u001b[0m",
      "\u001b[0;31mNameError\u001b[0m                                 Traceback (most recent call last)",
      "\u001b[0;32m/tmp/ipykernel_3849/3239850171.py\u001b[0m in \u001b[0;36m<module>\u001b[0;34m\u001b[0m\n\u001b[0;32m----> 1\u001b[0;31m \u001b[0mpj\u001b[0m\u001b[0;34m=\u001b[0m\u001b[0mplt\u001b[0m\u001b[0;34m.\u001b[0m\u001b[0mhist\u001b[0m\u001b[0;34m(\u001b[0m\u001b[0mcur\u001b[0m\u001b[0;34m,\u001b[0m \u001b[0mbins\u001b[0m\u001b[0;34m=\u001b[0m\u001b[0mbins_manual\u001b[0m\u001b[0;34m,\u001b[0m \u001b[0mdensity\u001b[0m\u001b[0;34m=\u001b[0m\u001b[0;32mTrue\u001b[0m\u001b[0;34m)\u001b[0m\u001b[0;34m[\u001b[0m\u001b[0;36m0\u001b[0m\u001b[0;34m]\u001b[0m\u001b[0;34m\u001b[0m\u001b[0;34m\u001b[0m\u001b[0m\n\u001b[0m",
      "\u001b[0;31mNameError\u001b[0m: name 'plt' is not defined"
     ]
    }
   ],
   "source": [
    "pj=plt.hist(cur, bins=bins_manual, density=True)[0]"
   ]
  },
  {
   "cell_type": "code",
   "execution_count": 3,
   "id": "f25db183",
   "metadata": {},
   "outputs": [],
   "source": [
    "import random, matplotlib.pyplot as plt, time, math, multiprocessing, concurrent.futures\n",
    "import numpy as np\n",
    "\n",
    "from itertools import repeat\n",
    "\n",
    "\n",
    "#plt.style.use(['science'])\n",
    "\n",
    "def flatten(xss):\n",
    "    return [x for xs in xss for x in xs]\n",
    "\n",
    "gamma,Radius_of_circle=1,1\n",
    "sigma,drift,potential_constant,time2=0.9,0.1,1,10\n",
    "\n",
    "ram0=128\n",
    "def brownian_v4(iterations):\n",
    "\n",
    "    #pos=np.zeros((iterations,ram0))\n",
    "    #cur=np.zeros((iterations,ram0))\n",
    "\n",
    "    C=[sigma, drift, potential_constant, iterations,time2]\n",
    "    \n",
    "    intial_pos=-np.arcsin(-Radius_of_circle*drift/potential_constant)+np.pi\n",
    "\n",
    "    theta0=np.full(ram0,intial_pos) \n",
    "    #use above theta0 for f<V0. For f>V0, use below theta0\n",
    "    #theta0=np.full(ram0,np.pi/2) \n",
    "    \n",
    "    theta=np.full(ram0,theta0)\n",
    "    theta2=np.zeros(ram0)\n",
    "    \n",
    "    dt=0.1 \n",
    "    T=int(time2/dt)                                #Total time of iteration which needs breaking down for more data points\n",
    "    std=np.sqrt(dt*sigma)\n",
    "    \n",
    "    prefactor=1/(gamma*Radius_of_circle)\n",
    "    \n",
    "    Delta=1\n",
    "    tau=2\n",
    "    l=5\n",
    "    \n",
    "    cur2=[[] for i in repeat(None, int((T-l)/Delta))]\n",
    "    for n in range(iterations):\n",
    "        \n",
    "        theta=np.full(ram0,theta0)\n",
    "        temp = np.zeros((T,ram0))\n",
    "        \n",
    "        for i in range(T):\n",
    "            \n",
    "            theta+=prefactor*(np.random.normal(0,std, ram0)+(drift-potential_constant*(-np.sin(theta))/Radius_of_circle)*dt)\n",
    "            temp[i] = theta\n",
    "            \n",
    "        #theta2=theta-np.floor((theta-np.pi)/(2*np.pi))*2*np.pi-2*np.pi\n",
    "        \n",
    "        for j in range(int((T-l)/Delta)):\n",
    "            I=l+j*Delta\n",
    "            \n",
    "            for k in range(int((T-l-j*Delta)/tau)):\n",
    "                tempslice=temp[k*tau+I]-temp[k*tau]\n",
    "\n",
    "                #tempslice=tempslice.flatten.tolist()     why is tempslice not np array??\n",
    "                \n",
    "                #print(cur2)\n",
    "                \n",
    "                cur2[j].extend(Radius_of_circle*tempslice/(I*dt))\n",
    "        \n",
    "        \n",
    "        #pos[n]=theta2\n",
    "        #cur[n]=Radius_of_circle*(theta-theta0)/time2\n",
    "        \n",
    "        \n",
    "\n",
    "    #pos=pos.flatten()\n",
    "    #cur=cur.flatten()\n",
    "\n",
    "\n",
    "    return cur2    #pos,cur #D"
   ]
  },
  {
   "cell_type": "code",
   "execution_count": 4,
   "id": "8ce46aba",
   "metadata": {},
   "outputs": [],
   "source": [
    "info=brownian_v4(10**2)"
   ]
  },
  {
   "cell_type": "code",
   "execution_count": 6,
   "id": "4ab6c130",
   "metadata": {},
   "outputs": [
    {
     "data": {
      "text/plain": [
       "12800"
      ]
     },
     "execution_count": 6,
     "metadata": {},
     "output_type": "execute_result"
    }
   ],
   "source": [
    "len(info[93])"
   ]
  },
  {
   "cell_type": "code",
   "execution_count": 225,
   "id": "f0a3fe85",
   "metadata": {},
   "outputs": [
    {
     "data": {
      "text/plain": [
       "(array([2.79997713e-04, 3.31378737e-03, 4.13963629e-02, 2.53877102e-01,\n",
       "        5.94807513e-01, 4.89288787e-01, 1.46704369e-01, 2.00328261e-02,\n",
       "        1.93977797e-03, 1.81854185e-04]),\n",
       " array([-3.09371892, -2.44931527, -1.80491162, -1.16050798, -0.51610433,\n",
       "         0.12829932,  0.77270297,  1.41710661,  2.06151026,  2.70591391,\n",
       "         3.35031756]),\n",
       " <BarContainer object of 10 artists>)"
      ]
     },
     "execution_count": 225,
     "metadata": {},
     "output_type": "execute_result"
    },
    {
     "data": {
      "image/png": "[encoded data removed]",
      "text/plain": [
       "<Figure size 432x288 with 1 Axes>"
      ]
     },
     "metadata": {
      "needs_background": "light"
     },
     "output_type": "display_data"
    }
   ],
   "source": [
    "plt.hist(info[10], bins=10, density=True)"
   ]
  },
  {
   "cell_type": "code",
   "execution_count": 40,
   "id": "40fd4938",
   "metadata": {},
   "outputs": [
    {
     "data": {
      "text/plain": [
       "[[], [[1, -2, 4]], [], [], [], [], [], [], [], []]"
      ]
     },
     "execution_count": 40,
     "metadata": {},
     "output_type": "execute_result"
    }
   ],
   "source": [
    "del2=[[] for i in repeat(None, 10)]\n",
    "\n",
    "del2[1].append([1,-2,4])\n",
    "\n",
    "del2"
   ]
  },
  {
   "cell_type": "code",
   "execution_count": 1,
   "id": "93246bce",
   "metadata": {
    "code_folding": []
   },
   "outputs": [],
   "source": []
  },
  {
   "cell_type": "code",
   "execution_count": null,
   "id": "844059dc",
   "metadata": {},
   "outputs": [],
   "source": []
  }
 ],
 "metadata": {
  "kernelspec": {
   "display_name": "Python 3 (ipykernel)",
   "language": "python",
   "name": "python3"
  },
  "language_info": {
   "codemirror_mode": {
    "name": "ipython",
    "version": 3
   },
   "file_extension": ".py",
   "mimetype": "text/x-python",
   "name": "python",
   "nbconvert_exporter": "python",
   "pygments_lexer": "ipython3",
   "version": "3.10.4"
  }
 },
 "nbformat": 4,
 "nbformat_minor": 5
}
