{
 "cells": [
  {
   "cell_type": "code",
   "execution_count": null,
   "id": "dfff1145",
   "metadata": {},
   "outputs": [],
   "source": [
    "# Brownian v2 and v3 in this file. v2 is just for archival purpose. Use v3 for multiprocessing."
   ]
  },
  {
   "cell_type": "code",
   "execution_count": 5,
   "id": "7bfd07d2",
   "metadata": {
    "code_folding": [
     5,
     56
    ]
   },
   "outputs": [],
   "source": [
    "import random, matplotlib.pyplot as plt, time, math, multiprocessing, concurrent.futures\n",
    "import numpy as np\n",
    "\n",
    "#plt.style.use(['science'])\n",
    "\n",
    "def flatten(xss):\n",
    "    return [x for xs in xss for x in xs]\n",
    "\n",
    "gamma,Radius_of_circle=1,1\n",
    "sigma,potential_constant,time2=0.0001,1,100\n",
    "\n",
    "ram0=1024\n",
    "def brownian_v3(drift,iterations):\n",
    "    #gamma=1.380649*(10**(-23))*300/diffusion\n",
    "    pos=np.zeros((iterations,ram0))\n",
    "    cur=np.zeros((iterations,ram0))\n",
    "    A=np.zeros(ram0)\n",
    "    B=np.zeros(ram0)\n",
    "    C=[sigma, drift, potential_constant, iterations,time2]\n",
    "    if drift<potential_constant:\n",
    "        intial_pos=-np.arcsin(-Radius_of_circle*drift/potential_constant)+np.pi\n",
    "    else:\n",
    "        intial_pos=1.0\n",
    "    theta0=np.full(ram0,intial_pos) \n",
    "    #use above theta0 for f<V0. For f>V0, use below theta0\n",
    "    #theta0=np.pi/2\n",
    "    theta=np.full(ram0,theta0)\n",
    "    theta2=np.zeros(ram0)\n",
    "    dt=0.1 #time increment\n",
    "    T=int(time2/dt) #Total time\n",
    "    std=np.sqrt(dt*sigma)\n",
    "    \n",
    "    prefactor=1/(gamma*Radius_of_circle)\n",
    "    for n in range(iterations):\n",
    "        #D=np.zeros(T)\n",
    "        #D[0]=intial_pos\n",
    "        \n",
    "        for i in range(T):\n",
    "            #D[i]=theta[0]-theta0[0]\n",
    "            theta+=prefactor*(np.random.normal(0,std, ram0)+(drift-potential_constant*(-np.sin(theta))/Radius_of_circle)*dt)\n",
    "            \n",
    "        theta2=theta-np.floor((theta-np.pi)/(2*np.pi))*2*np.pi-2*np.pi\n",
    "        \n",
    "        pos[n]=theta2\n",
    "        cur[n]=Radius_of_circle*(theta-theta0)/time2\n",
    "        \n",
    "        theta=np.full(ram0,theta0)\n",
    "\n",
    "    pos=pos.flatten()\n",
    "    cur=cur.flatten()\n",
    "\n",
    "\n",
    "    return cur #D\n",
    "\n",
    "\n",
    "#f __name__ == \"__main__\":\n",
    "#   iterations=10**1\n",
    "    \n",
    "#   with concurrent.futures.ProcessPoolExecutor() as executor:\n",
    "#       start_time = time.perf_counter()\n",
    "#       temp = list(executor.map(brownian_v3, [10 for i in range(int(iterations/10))]))\n",
    "#       finish_time = time.perf_counter()\n",
    "#   print(f\"Program finished in {finish_time-start_time} seconds\")\n",
    "    \n",
    "\n",
    "#results = [[temp[j][i] for j in range(len(temp))] for i in range(len(temp[0]))]\n",
    "#pos = flatten(results[0])\n",
    "#cur = flatten(results[1])\n",
    "\n",
    "#print(len(cur))\n",
    "\n"
   ]
  },
  {
   "cell_type": "code",
   "execution_count": 8,
   "id": "761b4088",
   "metadata": {},
   "outputs": [
    {
     "data": {
      "text/plain": [
       "<function matplotlib.pyplot.show(close=None, block=None)>"
      ]
     },
     "execution_count": 8,
     "metadata": {},
     "output_type": "execute_result"
    },
    {
     "data": {
      "image/png": "[encoded data removed]",
      "text/plain": [
       "<Figure size 432x288 with 1 Axes>"
      ]
     },
     "metadata": {
      "needs_background": "light"
     },
     "output_type": "display_data"
    }
   ],
   "source": [
    "start_drift=0\n",
    "end_drift=2\n",
    "num_points=100\n",
    "\n",
    "avgx=[]\n",
    "avgy=[]\n",
    "\n",
    "for i in range(num_points):\n",
    "\n",
    "    u=start_drift+(end_drift-start_drift)/num_points*i\n",
    "    \n",
    "    avgx.append(u)\n",
    "    avg=brownian_v3(u,10)\n",
    "    avgy.append(sum(avg)/len(avg))\n",
    "\n",
    "plt.scatter(avgx,avgy)\n",
    "\n",
    "plt.title('Avg J vs drift')\n",
    "plt.xlabel('drift')\n",
    "plt.ylabel('<j>')\n",
    "\n",
    "plt.show"
   ]
  },
  {
   "cell_type": "code",
   "execution_count": null,
   "id": "66263fac",
   "metadata": {},
   "outputs": [],
   "source": []
  }
 ],
 "metadata": {
  "kernelspec": {
   "display_name": "Python 3 (ipykernel)",
   "language": "python",
   "name": "python3"
  },
  "language_info": {
   "codemirror_mode": {
    "name": "ipython",
    "version": 3
   },
   "file_extension": ".py",
   "mimetype": "text/x-python",
   "name": "python",
   "nbconvert_exporter": "python",
   "pygments_lexer": "ipython3",
   "version": "3.10.4"
  }
 },
 "nbformat": 4,
 "nbformat_minor": 5
}
