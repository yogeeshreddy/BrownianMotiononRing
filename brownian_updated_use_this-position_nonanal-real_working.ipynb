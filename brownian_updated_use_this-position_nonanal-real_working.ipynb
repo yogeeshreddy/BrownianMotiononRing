{
 "cells": [
  {
   "cell_type": "code",
   "execution_count": null,
   "id": "dfff1145",
   "metadata": {},
   "outputs": [],
   "source": [
    "# Brownian v2 and v3 in this file. v2 is just for archival purpose. Use v3 for multiprocessing."
   ]
  },
  {
   "cell_type": "code",
   "execution_count": 245,
   "id": "7bfd07d2",
   "metadata": {
    "code_folding": [
     5
    ]
   },
   "outputs": [
    {
     "name": "stdout",
     "output_type": "stream",
     "text": [
      "Program finished in 0.6187862829538062 seconds\n",
      "102400\n"
     ]
    }
   ],
   "source": [
    "import random, matplotlib.pyplot as plt, time, math, multiprocessing, concurrent.futures\n",
    "import numpy as np\n",
    "\n",
    "#plt.style.use(['science'])\n",
    "\n",
    "def flatten(xss):\n",
    "    return [x for xs in xss for x in xs]\n",
    "\n",
    "'''\n",
    "gamma,Radius_of_circle=1.677 *1e-8,10 *1e-6\n",
    "sigma,drift,potential_constant,time2=1.389*1e-28,0.99*3.5*1e-15,0.84*6*1e-20,100\n",
    "\n",
    "dt=1e-1   '''  \n",
    "\n",
    "\n",
    "eta=8.9*1e-4\n",
    "r_particle=1e-6  #*1e-4  #multiply to change noise\n",
    "Radius_of_circle=10 *1e-6\n",
    "gamma=6*np.pi*eta*r_particle\n",
    "temp=300\n",
    "kb=1.380659*1e-23\n",
    "D0=kb*temp/gamma\n",
    "\n",
    "dt=1e-1\n",
    "\n",
    "norm1= 0.86625   # 2 *1e-2\n",
    "norm2= 1.21681   # 150 * 1e-3\n",
    "\n",
    "drift,potential_constant,time2=  4*norm1*1e-15,  10*norm2*kb*300 ,  1000*dt\n",
    "\n",
    "\n",
    "\n",
    "ram0=1024\n",
    "def brownian_v3(iterations):\n",
    "    #gamma=1.380649*(10**(-23))*300/diffusion\n",
    "    pos=np.zeros((iterations,ram0))\n",
    "    cur=np.zeros((iterations,ram0))\n",
    "    A=np.zeros(ram0)\n",
    "    B=np.zeros(ram0)\n",
    "    C=[sigma, drift, potential_constant, iterations,time2]\n",
    "    intial_pos=-np.arcsin(-Radius_of_circle*drift/potential_constant)+np.pi\n",
    "    #intial_pos=1.0\n",
    "    theta0=np.full(ram0,intial_pos) \n",
    "    #use above theta0 for f<V0. For f>V0, use below theta0\n",
    "    #theta0=np.pi/2\n",
    "    theta=np.full(ram0,theta0)\n",
    "    theta2=np.zeros(ram0)\n",
    "\n",
    "    T=int(time2/dt) #Total time\n",
    "    std=np.sqrt(dt*sigma)\n",
    "    \n",
    "    prefactor=1/(gamma*Radius_of_circle)\n",
    "    for n in range(iterations):\n",
    "        #D=np.zeros(T)\n",
    "        #D[0]=intial_pos\n",
    "        \n",
    "        for i in range(T):\n",
    "            #D[i]=theta[0]-theta0[0]\n",
    "            theta+=prefactor*(np.random.normal(0,std, ram0)+(drift-potential_constant*(-np.sin(theta))/Radius_of_circle)*dt)\n",
    "        \n",
    "        #theta3=theta-pjjx[np.argmin(pj2)]   ##to make min at 0\n",
    "        \n",
    "        shift=np.pi+np.arcsin(-Radius_of_circle*drift/potential_constant)\n",
    "        #shift=0\n",
    "        \n",
    "        theta2=theta-shift-np.floor((theta-shift-np.pi)/(2*np.pi))*2*np.pi-2*np.pi\n",
    "        \n",
    "        pos[n]=theta2\n",
    "        cur[n]=Radius_of_circle*(theta-theta0)/time2\n",
    "        \n",
    "        theta=np.full(ram0,theta0)\n",
    "\n",
    "    pos=pos.flatten()\n",
    "    cur=cur.flatten()\n",
    "\n",
    "\n",
    "    return pos,cur #D\n",
    "\n",
    "if __name__ == \"__main__\":\n",
    "    iterations=10**2\n",
    "    \n",
    "    with concurrent.futures.ProcessPoolExecutor() as executor:\n",
    "        start_time = time.perf_counter()\n",
    "        temp = list(executor.map(brownian_v3, [10 for i in range(int(iterations/10))]))\n",
    "        finish_time = time.perf_counter()\n",
    "    print(f\"Program finished in {finish_time-start_time} seconds\")\n",
    "    \n",
    "\n",
    "results = [[temp[j][i] for j in range(len(temp))] for i in range(len(temp[0]))]\n",
    "pos = flatten(results[0])\n",
    "cur = flatten(results[1])\n",
    "\n",
    "print(len(pos))\n"
   ]
  },
  {
   "cell_type": "code",
   "execution_count": 248,
   "id": "dff201b3",
   "metadata": {},
   "outputs": [
    {
     "data": {
      "text/plain": [
       "3.465e-15"
      ]
     },
     "execution_count": 248,
     "metadata": {},
     "output_type": "execute_result"
    }
   ],
   "source": [
    "drift"
   ]
  },
  {
   "cell_type": "code",
   "execution_count": 242,
   "id": "15da1ab8",
   "metadata": {
    "code_folding": [
     0
    ]
   },
   "outputs": [
    {
     "data": {
      "image/png": "[encoded data removed]",
      "text/plain": [
       "<Figure size 432x288 with 1 Axes>"
      ]
     },
     "metadata": {
      "needs_background": "light"
     },
     "output_type": "display_data"
    }
   ],
   "source": [
    "def brownian(sigma,drift,potential_constant,iterations,time):\n",
    "    #gamma=1.380649*(10**(-23))*300/diffusion\n",
    "    A=[] #Set of final positions\n",
    "    B=[]\n",
    "    C=[sigma, drift, potential_constant, iterations,time]\n",
    "    theta0=-np.arcsin(-Radius_of_circle*drift/potential_constant)+np.pi \n",
    "    theta1=np.arcsin(-Radius_of_circle*drift/potential_constant)\n",
    "    #use above theta0 for f<V0. For f>V0, use below theta0\n",
    "    #theta0=-0.5\n",
    "    theta=theta0\n",
    "    \n",
    "    \n",
    "    K2=[]\n",
    "    \n",
    "    theta2=0\n",
    "\n",
    "    T=int(time/dt) #Total time\n",
    "    std=np.sqrt(dt*sigma)\n",
    "    prefactor=1/(gamma*Radius_of_circle)\n",
    "    for n in range(iterations):\n",
    "        D=[]\n",
    "        K=[]\n",
    "        K0=0\n",
    "        for i in range(T):\n",
    "            theta+=prefactor*(random.gauss(0,std)+(drift-potential_constant*(-np.sin(theta))/Radius_of_circle)*dt)\n",
    "            D.append(theta-theta0)\n",
    "            #if theta0-(theta0+theta1+np.pi)/2<theta<theta1+(theta0+theta1+np.pi)/2:\n",
    "            #    K0=theta\n",
    "            #    K.append(K0)\n",
    "            #else:\n",
    "            #    break\n",
    "        theta2=theta-np.floor((theta-np.pi)/(2*np.pi))*2*np.pi-2*np.pi\n",
    "            \n",
    "        A.append(theta2)\n",
    "        B.append(Radius_of_circle*(theta-theta0)/time)\n",
    "        K2.append(K)\n",
    "        \n",
    "        \n",
    "        theta=theta0\n",
    "    K2=flatten(K2)\n",
    "\n",
    "    return A,B,C,D,K2\n",
    "\n",
    "\n",
    "data=brownian(sigma,drift,potential_constant,10**0,100000)\n",
    "\n",
    "\n",
    "xs = [x for x in range(len(data[3]))]\n",
    "\n",
    "plt.plot(xs, data[3])\n",
    "plt.show()"
   ]
  },
  {
   "cell_type": "code",
   "execution_count": 229,
   "id": "53112065",
   "metadata": {
    "scrolled": true
   },
   "outputs": [
    {
     "data": {
      "image/png": "[encoded data removed]",
      "text/plain": [
       "<Figure size 432x288 with 1 Axes>"
      ]
     },
     "metadata": {
      "needs_background": "light"
     },
     "output_type": "display_data"
    }
   ],
   "source": [
    "fig1 = plt.figure(1)\n",
    "plt.hist(pos, bins=80, density=True)\n",
    "plt.title('Probability of position')\n",
    "plt.xlabel(r'$\\theta$')\n",
    "plt.ylabel(r'$P(\\theta)$')\n",
    "\n",
    "plt.show()"
   ]
  },
  {
   "cell_type": "code",
   "execution_count": 232,
   "id": "c3123ca8",
   "metadata": {
    "scrolled": false
   },
   "outputs": [
    {
     "data": {
      "text/plain": [
       "<function matplotlib.pyplot.show(close=None, block=None)>"
      ]
     },
     "execution_count": 232,
     "metadata": {},
     "output_type": "execute_result"
    },
    {
     "data": {
      "image/png": "[encoded data removed]",
      "text/plain": [
       "<Figure size 432x288 with 1 Axes>"
      ]
     },
     "metadata": {
      "needs_background": "light"
     },
     "output_type": "display_data"
    }
   ],
   "source": [
    "pj=np.histogram(pos, bins=80, density=True)[0]\n",
    "pjx=np.histogram(pos, bins=80, density=True)[1]\n",
    "pjj=[]\n",
    "pjjx=[]\n",
    "for i in range(len(pj)-1):\n",
    "    if pj[i]!=0:\n",
    "        pjj.append(pj[i])\n",
    "        pjjx.append((pjx[i+1]+pjx[i])/2)\n",
    "\n",
    "\n",
    "Area2=0\n",
    "for i in range(len(pjjx)):\n",
    "    Area2+=pjj[i]\n",
    "\n",
    "Area=np.sum(pj)*(pjx[2]-pjx[1])\n",
    "    \n",
    "#Don't divide by area or area2. Useless\n",
    "\n",
    "\n",
    "pj2=(-sigma)*np.log(pjj)\n",
    "\n",
    "plt.scatter(pjjx,pj2)\n",
    "plt.title('Position rate function')\n",
    "plt.xlabel('x')\n",
    "plt.ylabel('-sigma * Log[P(x)]')\n",
    "\n",
    "intial_pos=-np.arcsin(-Radius_of_circle*drift/potential_constant)+np.pi\n",
    "\n",
    "shift=np.pi+np.arcsin(-Radius_of_circle*drift/potential_constant)\n",
    "\n",
    "X = np.linspace(-np.pi, np.pi, 200)\n",
    "Y= 2*1e-8*(potential_constant*np.cos(X+shift)-drift*Radius_of_circle*(X+shift)-min(potential_constant*np.cos(X+shift)-drift*Radius_of_circle*(X+shift)))\n",
    "\n",
    "plt.plot(X, 2*Y,'r-')\n",
    "\n",
    "plt.show"
   ]
  },
  {
   "cell_type": "code",
   "execution_count": 194,
   "id": "592f2c27",
   "metadata": {},
   "outputs": [
    {
     "data": {
      "text/plain": [
       "<function matplotlib.pyplot.show(close=None, block=None)>"
      ]
     },
     "execution_count": 194,
     "metadata": {},
     "output_type": "execute_result"
    },
    {
     "data": {
      "image/png": "[encoded data removed]",
      "text/plain": [
       "<Figure size 432x288 with 1 Axes>"
      ]
     },
     "metadata": {
      "needs_background": "light"
     },
     "output_type": "display_data"
    }
   ],
   "source": [
    "plt.scatter(pjjx,pj2)\n",
    "plt.title('Position rate function')\n",
    "plt.xlabel('x')\n",
    "plt.ylabel('-sigma * Log[P(x)]')\n",
    "\n",
    "intial_pos=-np.arcsin(-Radius_of_circle*drift/potential_constant)+np.pi\n",
    "\n",
    "shift=np.pi+np.arcsin(-Radius_of_circle*drift/potential_constant)\n",
    "\n",
    "X = np.linspace(-np.pi, np.pi, 200)\n",
    "Y= 1.7*1e-8*(potential_constant*np.cos(X+shift)-drift*Radius_of_circle*(X+shift)-min(potential_constant*np.cos(X+shift)-drift*Radius_of_circle*(X+shift)))\n",
    "\n",
    "plt.plot(X, 2*Y,'r-')\n",
    "\n",
    "plt.show"
   ]
  },
  {
   "cell_type": "code",
   "execution_count": 169,
   "id": "a054296a",
   "metadata": {},
   "outputs": [
    {
     "data": {
      "text/plain": [
       "-3.261860174599314"
      ]
     },
     "execution_count": 169,
     "metadata": {},
     "output_type": "execute_result"
    }
   ],
   "source": [
    "min(np.cos(X+shift)-drift*(X+shift))"
   ]
  },
  {
   "cell_type": "code",
   "execution_count": 118,
   "id": "2f2a2f89",
   "metadata": {},
   "outputs": [
    {
     "data": {
      "text/plain": [
       "1.8682686974947065"
      ]
     },
     "execution_count": 118,
     "metadata": {},
     "output_type": "execute_result"
    }
   ],
   "source": [
    "pjjx[np.argmin(pj2)]"
   ]
  },
  {
   "cell_type": "code",
   "execution_count": 133,
   "id": "e8322b61",
   "metadata": {},
   "outputs": [
    {
     "data": {
      "text/plain": [
       "[<matplotlib.lines.Line2D at 0x7f28449690f0>]"
      ]
     },
     "execution_count": 133,
     "metadata": {},
     "output_type": "execute_result"
    },
    {
     "data": {
      "image/png": "[encoded data removed]",
      "text/plain": [
       "<Figure size 432x288 with 1 Axes>"
      ]
     },
     "metadata": {
      "needs_background": "light"
     },
     "output_type": "display_data"
    }
   ],
   "source": [
    "#intial_pos=-np.arcsin(-Radius_of_circle*drift/potential_constant)+np.pi\n",
    "\n",
    "shift=np.pi+np.arcsin(-Radius_of_circle*drift/potential_constant)\n",
    "#shift=0\n",
    "\n",
    "X = np.linspace(-np.pi, np.pi, 200)\n",
    "Y= potential_constant*np.cos(X+shift)-drift*Radius_of_circle*(X+shift)-min(potential_constant*np.cos(X+shift)-drift*Radius_of_circle*(X+shift))\n",
    "\n",
    "plt.plot(X, 2*Y,'r-')"
   ]
  },
  {
   "cell_type": "code",
   "execution_count": 244,
   "id": "5882379e",
   "metadata": {},
   "outputs": [
    {
     "name": "stdout",
     "output_type": "stream",
     "text": [
      "3.465e-15\n",
      "5.0399990333699994e-20\n"
     ]
    }
   ],
   "source": [
    "print(drift)\n",
    "print(potential_constant)\n"
   ]
  },
  {
   "cell_type": "code",
   "execution_count": 196,
   "id": "e14c796f",
   "metadata": {},
   "outputs": [
    {
     "data": {
      "text/plain": [
       "1.2168102333740627"
      ]
     },
     "execution_count": 196,
     "metadata": {},
     "output_type": "execute_result"
    }
   ],
   "source": [
    "kb=1.380659*1e-23\n",
    "0.84*6*1e-20/(10*kb*300)"
   ]
  },
  {
   "cell_type": "code",
   "execution_count": null,
   "id": "cc7349a6",
   "metadata": {},
   "outputs": [],
   "source": []
  }
 ],
 "metadata": {
  "kernelspec": {
   "display_name": "Python 3 (ipykernel)",
   "language": "python",
   "name": "python3"
  },
  "language_info": {
   "codemirror_mode": {
    "name": "ipython",
    "version": 3
   },
   "file_extension": ".py",
   "mimetype": "text/x-python",
   "name": "python",
   "nbconvert_exporter": "python",
   "pygments_lexer": "ipython3",
   "version": "3.10.4"
  }
 },
 "nbformat": 4,
 "nbformat_minor": 5
}
