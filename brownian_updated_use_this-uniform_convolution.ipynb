{
 "cells": [
  {
   "cell_type": "code",
   "execution_count": null,
   "id": "dfff1145",
   "metadata": {},
   "outputs": [],
   "source": [
    "# Brownian v2 and v3 in this file. v2 is just for archival purpose. Use v3 for multiprocessing."
   ]
  },
  {
   "cell_type": "code",
   "execution_count": 8,
   "id": "5972b0e4",
   "metadata": {},
   "outputs": [
    {
     "data": {
      "text/plain": [
       "array([ 1.9718158 ,  3.49115922,  4.9878215 ,  0.80417571,  3.9115145 ,\n",
       "        0.52095817,  4.74196127, -0.05558982,  0.55561952,  5.34577035])"
      ]
     },
     "execution_count": 8,
     "metadata": {},
     "output_type": "execute_result"
    }
   ],
   "source": []
  },
  {
   "cell_type": "code",
   "execution_count": 25,
   "id": "7bfd07d2",
   "metadata": {
    "code_folding": [
     5
    ]
   },
   "outputs": [
    {
     "name": "stdout",
     "output_type": "stream",
     "text": [
      "Program finished in 60.903297232000114 seconds\n",
      "1024000\n"
     ]
    }
   ],
   "source": [
    "import random, matplotlib.pyplot as plt, time, math, multiprocessing, concurrent.futures\n",
    "import numpy as np\n",
    "\n",
    "#plt.style.use(['science'])\n",
    "\n",
    "def flatten(xss):\n",
    "    return [x for xs in xss for x in xs]\n",
    "\n",
    "peakmax=np.arcsin(-Radius_of_circle*drift/potential_constant)\n",
    "\n",
    "\n",
    "gamma,Radius_of_circle=1,1\n",
    "sigma,drift,potential_constant,time2=0.8,0.3,1,1000\n",
    "\n",
    "ram0=1024\n",
    "def brownian_v3(iterations):\n",
    "    #gamma=1.380649*(10**(-23))*300/diffusion\n",
    "    pos=np.zeros((iterations,ram0))\n",
    "    cur=np.zeros((iterations,ram0))\n",
    "    A=np.zeros(ram0)\n",
    "    B=np.zeros(ram0)\n",
    "    C=[sigma, drift, potential_constant, iterations,time2]\n",
    "    intial_pos=-np.arcsin(-Radius_of_circle*drift/potential_constant)+np.pi\n",
    "    #intial_pos=1.0\n",
    "    theta0=np.full(ram0,intial_pos) \n",
    "    #use above theta0 for f<V0. For f>V0, use below theta0\n",
    "    #theta0=np.pi/2\n",
    "    theta=np.full(ram0,theta0)\n",
    "    theta2=np.zeros(ram0)\n",
    "    dt=0.1 #time increment\n",
    "    T=int(time2/dt) #Total time\n",
    "    std=np.sqrt(dt*sigma)\n",
    "    \n",
    "    prefactor=1/(gamma*Radius_of_circle)\n",
    "    for n in range(iterations):\n",
    "        #D=np.zeros(T)\n",
    "        #D[0]=intial_pos\n",
    "        \n",
    "        for i in range(T):\n",
    "            #D[i]=theta[0]-theta0[0]\n",
    "            theta+=prefactor*(np.random.normal(0,std, ram0)+(drift-potential_constant*(-np.sin(theta))/Radius_of_circle)*dt)\n",
    "            \n",
    "        theta2=theta-np.floor((theta-np.pi)/(2*np.pi))*2*np.pi-2*np.pi\n",
    "        \n",
    "        theta+=np.random.uniform(peakmax,peakmax+2*np.pi,ram0)\n",
    "        \n",
    "        pos[n]=theta2\n",
    "        cur[n]=Radius_of_circle*(theta-theta0)/time2\n",
    "        \n",
    "        theta=np.full(ram0,theta0)\n",
    "\n",
    "    pos=pos.flatten()\n",
    "    cur=cur.flatten()\n",
    "\n",
    "\n",
    "    return pos,cur #D\n",
    "\n",
    "if __name__ == \"__main__\":\n",
    "    iterations=10**3\n",
    "    \n",
    "    with concurrent.futures.ProcessPoolExecutor() as executor:\n",
    "        start_time = time.perf_counter()\n",
    "        temp = list(executor.map(brownian_v3, [10 for i in range(int(iterations/10))]))\n",
    "        finish_time = time.perf_counter()\n",
    "    print(f\"Program finished in {finish_time-start_time} seconds\")\n",
    "    \n",
    "\n",
    "results = [[temp[j][i] for j in range(len(temp))] for i in range(len(temp[0]))]\n",
    "pos = flatten(results[0])\n",
    "cur = flatten(results[1])\n",
    "\n",
    "print(len(cur))\n"
   ]
  },
  {
   "cell_type": "code",
   "execution_count": 72,
   "id": "15da1ab8",
   "metadata": {},
   "outputs": [
    {
     "data": {
      "text/plain": [
       "0.024494897427831782"
      ]
     },
     "execution_count": 72,
     "metadata": {},
     "output_type": "execute_result"
    }
   ],
   "source": [
    "np.sqrt(0.1*sigma)"
   ]
  },
  {
   "cell_type": "code",
   "execution_count": 26,
   "id": "53112065",
   "metadata": {
    "scrolled": false
   },
   "outputs": [
    {
     "data": {
      "image/png": "[encoded data removed]",
      "text/plain": [
       "<Figure size 432x288 with 1 Axes>"
      ]
     },
     "metadata": {
      "needs_background": "light"
     },
     "output_type": "display_data"
    },
    {
     "data": {
      "image/png": "[encoded data removed]",
      "text/plain": [
       "<Figure size 432x288 with 1 Axes>"
      ]
     },
     "metadata": {
      "needs_background": "light"
     },
     "output_type": "display_data"
    }
   ],
   "source": [
    "fig1 = plt.figure(1)\n",
    "plt.hist(pos, bins=80, density=True)\n",
    "plt.title('Probability of position')\n",
    "plt.xlabel(r'$\\theta$')\n",
    "plt.ylabel(r'$P(\\theta)$')\n",
    "\n",
    "bins_manual=[]\n",
    "for i in range(-15,30):\n",
    "    bins_manual.append((2*np.pi*i-np.pi)/time2)   #data[2][4] is time\n",
    "\n",
    "fig2 = plt.figure(2)\n",
    "plt.hist(cur, bins=50, density=True)\n",
    "#plt.hist(cur, bins=bins_manual,density=True)\n",
    "plt.title('Probability of current')\n",
    "plt.xlabel('$j$')\n",
    "plt.ylabel('$P(j)$')\n",
    "plt.yscale('log')\n",
    "\n",
    "plt.show()"
   ]
  },
  {
   "cell_type": "code",
   "execution_count": 27,
   "id": "c3123ca8",
   "metadata": {
    "scrolled": true
   },
   "outputs": [],
   "source": [
    "pj=np.histogram(cur, bins=50, density=True)[0]\n",
    "pjx=np.histogram(cur, bins=50, density=True)[1]\n",
    "pjj=[]\n",
    "pjjx=[]\n",
    "for i in range(len(pj)-1):\n",
    "    if pj[i]!=0:\n",
    "        pjj.append(pj[i])\n",
    "        pjjx.append((pjx[i+1]+pjx[i])/2)\n",
    "pj2=(-1/time2)*np.log(pjj)\n",
    "\n",
    "Area2=0\n",
    "for i in range(len(pjjx)):\n",
    "    Area2+=pjj[i]\n",
    "\n",
    "Area=np.sum(pj)*(pjx[2]-pjx[1])\n",
    "    \n",
    "#Don't divide by area or area2. Useless\n",
    "\n",
    "\n",
    "pj2=(-1/time2)*np.log(pjj)"
   ]
  },
  {
   "cell_type": "code",
   "execution_count": 160,
   "id": "2f2a2f89",
   "metadata": {},
   "outputs": [
    {
     "data": {
      "text/plain": [
       "1.000000000000001"
      ]
     },
     "execution_count": 160,
     "metadata": {},
     "output_type": "execute_result"
    }
   ],
   "source": [
    "Area"
   ]
  },
  {
   "cell_type": "code",
   "execution_count": 28,
   "id": "b7603320",
   "metadata": {
    "scrolled": true
   },
   "outputs": [
    {
     "data": {
      "text/plain": [
       "<function matplotlib.pyplot.show(close=None, block=None)>"
      ]
     },
     "execution_count": 28,
     "metadata": {},
     "output_type": "execute_result"
    },
    {
     "data": {
      "image/png": "[encoded data removed]",
      "text/plain": [
       "<Figure size 432x288 with 1 Axes>"
      ]
     },
     "metadata": {
      "needs_background": "light"
     },
     "output_type": "display_data"
    }
   ],
   "source": [
    "plt.scatter(pjjx,pj2)\n",
    "plt.title('Current rate function')\n",
    "plt.xlabel('j')\n",
    "plt.ylabel('-Log[P(j)]/T')\n",
    "\n",
    "plt.show"
   ]
  },
  {
   "cell_type": "code",
   "execution_count": 210,
   "id": "9a2949ba",
   "metadata": {},
   "outputs": [
    {
     "data": {
      "text/plain": [
       "-0.02510343640535555"
      ]
     },
     "execution_count": 210,
     "metadata": {},
     "output_type": "execute_result"
    }
   ],
   "source": [
    "min(cur)"
   ]
  },
  {
   "cell_type": "code",
   "execution_count": 55,
   "id": "0bab5f44",
   "metadata": {
    "code_folding": [
     7
    ]
   },
   "outputs": [],
   "source": [
    "import numpy as np\n",
    "import random, matplotlib.pyplot as plt, time, math\n",
    "\n",
    "gamma,Radius_of_circle=1,1\n",
    "\n",
    "ram0=1024\n",
    "\n",
    "def brownian_v2(sigma,drift,potential_constant,iterations,time):\n",
    "    #gamma=1.380649*(10**(-23))*300/diffusion\n",
    "    pos=np.zeros((iterations,ram0))\n",
    "    cur=np.zeros((iterations,ram0))\n",
    "    A=np.zeros(ram0)\n",
    "    B=np.zeros(ram0)\n",
    "    C=[sigma, drift, potential_constant, iterations,time]\n",
    "    intial_pos=-np.arcsin(-Radius_of_circle*drift/potential_constant)+np.pi\n",
    "    theta0=np.full(ram0,intial_pos) \n",
    "    #use above theta0 for f<V0. For f>V0, use below theta0\n",
    "    #theta0=np.pi/2\n",
    "    theta=np.full(ram0,theta0)\n",
    "    theta2=np.zeros(ram0)\n",
    "    dt=0.1 #time increment\n",
    "    T=int(time/dt) #Total time\n",
    "    std=np.sqrt(dt*sigma)\n",
    "    prefactor=1/(gamma*Radius_of_circle)\n",
    "    for n in range(iterations):\n",
    "        #D=np.zeros(T)\n",
    "        #D[0]=intial_pos\n",
    "        \n",
    "        for i in range(T):\n",
    "            #D[i]=theta[0]-theta0[0]\n",
    "            theta+=prefactor*(np.random.normal(0,std, ram0)+(drift-potential_constant*(np.sin(theta))/Radius_of_circle)*dt)\n",
    "            \n",
    "        for k in range(len(theta)):\n",
    "            if -np.pi<theta[k]<=np.pi:\n",
    "                theta2[k]=theta[k]\n",
    "            else:\n",
    "                theta2[k]=-np.sign(theta[k])*np.pi+theta[k]-np.pi-int((theta[k]-np.pi)/(2*np.pi))*2*np.pi   \n",
    "        pos[n]=theta2\n",
    "        cur[n]=Radius_of_circle*(theta-theta0)/time\n",
    "        \n",
    "        theta=np.full(ram0,theta0)\n",
    "\n",
    "    pos=pos.flatten()\n",
    "    cur=cur.flatten()\n",
    "    \n",
    "    return pos,cur,C,#D"
   ]
  },
  {
   "cell_type": "code",
   "execution_count": 104,
   "id": "47879a92",
   "metadata": {},
   "outputs": [
    {
     "name": "stdout",
     "output_type": "stream",
     "text": [
      "0.5873084320046473\n"
     ]
    }
   ],
   "source": [
    "t1=time.perf_counter()\n",
    "data=brownian_v2(0.3,0.1,1,256,3)\n",
    "print(time.perf_counter()-t1)"
   ]
  },
  {
   "cell_type": "code",
   "execution_count": 105,
   "id": "04cd899e",
   "metadata": {},
   "outputs": [
    {
     "data": {
      "image/png": "[encoded data removed]",
      "text/plain": [
       "<Figure size 432x288 with 1 Axes>"
      ]
     },
     "metadata": {
      "needs_background": "light"
     },
     "output_type": "display_data"
    }
   ],
   "source": [
    "qj=plt.hist(data[0], bins=80, density=True)[0]\n",
    "qjx=plt.hist(data[0], bins=80, density=True)[1]\n",
    "qjj=[]\n",
    "qjjx=[]\n",
    "for i in range(len(qj)-1):\n",
    "    if qj[i]!=0:\n",
    "        qjj.append(qj[i])\n",
    "        qjjx.append((qjx[i+1]+qjx[i])/2\n",
    "qj2=(-1e-1)*np.log(qjj)"
   ]
  },
  {
   "cell_type": "code",
   "execution_count": 101,
   "id": "9d0648ee",
   "metadata": {},
   "outputs": [
    {
     "data": {
      "text/plain": [
       "<function matplotlib.pyplot.show(close=None, block=None)>"
      ]
     },
     "execution_count": 101,
     "metadata": {},
     "output_type": "execute_result"
    },
    {
     "data": {
      "image/png": "[encoded data removed]",
      "text/plain": [
       "<Figure size 432x288 with 1 Axes>"
      ]
     },
     "metadata": {
      "needs_background": "light"
     },
     "output_type": "display_data"
    }
   ],
   "source": [
    "jupyter nbextension enable codefolding/mainplt.scatter(qjjx,qj2)\n",
    "plt.title('Position distribution')\n",
    "plt.xlabel('x')\n",
    "plt.ylabel('-Log[P(x)]/T')\n",
    "\n",
    "plt.show"
   ]
  },
  {
   "cell_type": "code",
   "execution_count": 25,
   "id": "813d5ae3",
   "metadata": {},
   "outputs": [
    {
     "data": {
      "text/plain": [
       "-0.23849806549897842"
      ]
     },
     "execution_count": 25,
     "metadata": {},
     "output_type": "execute_result"
    }
   ],
   "source": [
    "min(cur)"
   ]
  },
  {
   "cell_type": "code",
   "execution_count": 9,
   "id": "38d16e65",
   "metadata": {},
   "outputs": [
    {
     "name": "stdout",
     "output_type": "stream",
     "text": [
      "20\n"
     ]
    }
   ],
   "source": [
    "print(len(bins_manual))"
   ]
  },
  {
   "cell_type": "code",
   "execution_count": 58,
   "id": "14527bd7",
   "metadata": {},
   "outputs": [
    {
     "data": {
      "text/plain": [
       "3.241760074751353"
      ]
     },
     "execution_count": 58,
     "metadata": {},
     "output_type": "execute_result"
    }
   ],
   "source": [
    "-np.arcsin(-Radius_of_circle*0.1/1)+np.pi"
   ]
  },
  {
   "cell_type": "code",
   "execution_count": 2,
   "id": "3eb86aa5",
   "metadata": {},
   "outputs": [
    {
     "ename": "NameError",
     "evalue": "name 'plt' is not defined",
     "output_type": "error",
     "traceback": [
      "\u001b[0;31m---------------------------------------------------------------------------\u001b[0m",
      "\u001b[0;31mNameError\u001b[0m                                 Traceback (most recent call last)",
      "\u001b[0;32m/tmp/ipykernel_3849/3239850171.py\u001b[0m in \u001b[0;36m<module>\u001b[0;34m\u001b[0m\n\u001b[0;32m----> 1\u001b[0;31m \u001b[0mpj\u001b[0m\u001b[0;34m=\u001b[0m\u001b[0mplt\u001b[0m\u001b[0;34m.\u001b[0m\u001b[0mhist\u001b[0m\u001b[0;34m(\u001b[0m\u001b[0mcur\u001b[0m\u001b[0;34m,\u001b[0m \u001b[0mbins\u001b[0m\u001b[0;34m=\u001b[0m\u001b[0mbins_manual\u001b[0m\u001b[0;34m,\u001b[0m \u001b[0mdensity\u001b[0m\u001b[0;34m=\u001b[0m\u001b[0;32mTrue\u001b[0m\u001b[0;34m)\u001b[0m\u001b[0;34m[\u001b[0m\u001b[0;36m0\u001b[0m\u001b[0;34m]\u001b[0m\u001b[0;34m\u001b[0m\u001b[0;34m\u001b[0m\u001b[0m\n\u001b[0m",
      "\u001b[0;31mNameError\u001b[0m: name 'plt' is not defined"
     ]
    }
   ],
   "source": [
    "pj=plt.hist(cur, bins=bins_manual, density=True)[0]"
   ]
  },
  {
   "cell_type": "code",
   "execution_count": null,
   "id": "f25db183",
   "metadata": {},
   "outputs": [],
   "source": []
  }
 ],
 "metadata": {
  "kernelspec": {
   "display_name": "Python 3 (ipykernel)",
   "language": "python",
   "name": "python3"
  },
  "language_info": {
   "codemirror_mode": {
    "name": "ipython",
    "version": 3
   },
   "file_extension": ".py",
   "mimetype": "text/x-python",
   "name": "python",
   "nbconvert_exporter": "python",
   "pygments_lexer": "ipython3",
   "version": "3.10.4"
  }
 },
 "nbformat": 4,
 "nbformat_minor": 5
}
