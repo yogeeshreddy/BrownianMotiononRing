{
 "cells": [
  {
   "cell_type": "code",
   "execution_count": 12,
   "id": "183f319c",
   "metadata": {
    "scrolled": true
   },
   "outputs": [],
   "source": [
    "import random, matplotlib.pyplot as plt, time, math, multiprocessing, concurrent.futures\n",
    "import numpy as np\n",
    "\n",
    "gamma,Radius_of_circle=1,1\n",
    "sigma,drift,potential_constant,time2=0.8,0.3,1,20\n",
    "\n",
    "num_points_k,N=100,20\n",
    "start_k=-1\n",
    "end_k=1\n",
    "\n",
    "num_points_j=100\n",
    "start_j=-1\n",
    "end_j=1.5\n",
    "\n",
    "def scgf(sigma,drift,potential_constant):\n",
    "    lamx=[]\n",
    "    lamy=[]\n",
    "    for i in range(num_points_k):\n",
    "        k=start_k+(end_k-start_k)/num_points_k*i\n",
    "        \n",
    "        mat=np.zeros((2*N+1+2,2*N+1+2), dtype=complex)\n",
    "        \n",
    "        for i in range(1,len(mat)-1):\n",
    "            mat[i,i]=(drift+k*sigma**2)*(-N+i-1)*1j-sigma**2*(-N+i-1)**2/2+k*drift+k**2*sigma**2/2\n",
    "            mat[i,i-1]=potential_constant/2*(-N+i-1-1-k*1j)\n",
    "            mat[i,i+1]=potential_constant/2*(N-i+1-1+k*1j)\n",
    "        \n",
    "        a=np.linalg.eigvals(mat[1:-1,1:-1])\n",
    "        b=[]\n",
    "        for i in range(len(a)):\n",
    "            if abs(a[i].imag)<1e-7:\n",
    "                b.append(a[i].real)\n",
    "        \n",
    "        lamx.append(k)\n",
    "        lamy.append(b[0])\n",
    "    \n",
    "    return [lamx,lamy]\n",
    "\n",
    "def ratefn(sigma,drift,potential_constant):\n",
    "    Ix=[]\n",
    "    Iy=[]\n",
    "    for i in range(num_points_j):\n",
    "        j=start_j+(end_j-start_j)/num_points_j*i\n",
    "        \n",
    "        Ix.append(j)\n",
    "        Iy.append(max(np.array(scgf(sigma,drift,potential_constant)[0])*j-scgf(sigma,drift,potential_constant)[1]))\n",
    "        \n",
    "    return [Ix,Iy]\n",
    "\n",
    "\n"
   ]
  },
  {
   "cell_type": "code",
   "execution_count": 13,
   "id": "34db8bdd",
   "metadata": {
    "scrolled": true
   },
   "outputs": [
    {
     "data": {
      "text/plain": [
       "<matplotlib.collections.PathCollection at 0x7f74a52a45b0>"
      ]
     },
     "execution_count": 13,
     "metadata": {},
     "output_type": "execute_result"
    },
    {
     "data": {
      "image/png": "[encoded data removed]",
      "text/plain": [
       "<Figure size 432x288 with 1 Axes>"
      ]
     },
     "metadata": {
      "needs_background": "light"
     },
     "output_type": "display_data"
    }
   ],
   "source": [
    "arr=ratefn(sigma,drift,potential_constant)\n",
    "plt.scatter(arr[0],arr[1])"
   ]
  },
  {
   "cell_type": "code",
   "execution_count": 23,
   "id": "3e007ede",
   "metadata": {},
   "outputs": [
    {
     "data": {
      "text/plain": [
       "array([0.36852116, 0.37785032, 0.38741565, 0.39722312, 0.40727887,\n",
       "       0.41758918, 0.4281605 , 0.43899944, 0.45011276, 0.46150742,\n",
       "       0.47319054, 0.48516941, 0.49745154, 0.51004458, 0.52295642,\n",
       "       0.53619513, 0.54976897, 0.56368644, 0.57795623, 0.59258726,\n",
       "       0.60758868, 0.62296986, 0.63874042, 0.65491021, 0.67148934,\n",
       "       0.68848817, 0.70591733, 0.72378771, 0.74211049, 0.7608971 ,\n",
       "       0.7801593 , 0.79990913, 0.82015893, 0.84092135, 0.86220938,\n",
       "       0.88403631, 0.90641579, 0.92936182, 0.95288873, 0.9768265 ,\n",
       "       0.99664966, 0.99998847, 0.99801902, 0.99377495, 0.98801259,\n",
       "       0.98109345, 0.97322595, 0.96457399, 0.95521577, 0.94525546,\n",
       "       0.93472654, 0.92374107, 0.91230424, 0.90041723, 0.88817022,\n",
       "       0.87558781, 0.86269324, 0.84950852, 0.83603236, 0.82227762,\n",
       "       0.80829295, 0.79409602, 0.77970403, 0.7651339 , 0.75038439,\n",
       "       0.7354439 , 0.72037384, 0.70519079, 0.68990182, 0.67446607,\n",
       "       0.65896744, 0.64342221, 0.62784991, 0.61265449, 0.59782683,\n",
       "       0.58335804, 0.56923943, 0.55546252, 0.54201904, 0.52890093,\n",
       "       0.5161003 , 0.50360948, 0.49142097, 0.47952745, 0.46792177,\n",
       "       0.45659699, 0.44554628, 0.43476303, 0.42424076, 0.41397316,\n",
       "       0.40395405, 0.39417743, 0.38463742, 0.37532831, 0.3662445 ,\n",
       "       0.35738053, 0.3487311 , 0.340291  , 0.33205517, 0.32401867])"
      ]
     },
     "execution_count": 23,
     "metadata": {},
     "output_type": "execute_result"
    }
   ],
   "source": [
    "(np.exp(arr[1]))**(-1)"
   ]
  },
  {
   "cell_type": "code",
   "execution_count": 31,
   "id": "b63ce601",
   "metadata": {},
   "outputs": [
    {
     "data": {
      "text/plain": [
       "<matplotlib.collections.PathCollection at 0x7f74a4c17be0>"
      ]
     },
     "execution_count": 31,
     "metadata": {},
     "output_type": "execute_result"
    },
    {
     "data": {
      "image/png": "[encoded data removed]",
      "text/plain": [
       "<Figure size 432x288 with 1 Axes>"
      ]
     },
     "metadata": {
      "needs_background": "light"
     },
     "output_type": "display_data"
    }
   ],
   "source": [
    "plt.scatter(arr[0],(np.exp(arr[1]))**(-10))"
   ]
  },
  {
   "cell_type": "code",
   "execution_count": 50,
   "id": "dce933cd",
   "metadata": {
    "code_folding": [
     0,
     5,
     45
    ]
   },
   "outputs": [
    {
     "name": "stdout",
     "output_type": "stream",
     "text": [
      "Program finished in 0.159522685000411 seconds\n",
      "102400\n"
     ]
    }
   ],
   "source": [
    "def flatten(xss):\n",
    "    return [x for xs in xss for x in xs]\n",
    "\n",
    "\n",
    "ram0=1024\n",
    "def brownian_v3(iterations):\n",
    "    #gamma=1.380649*(10**(-23))*300/diffusion\n",
    "    pos=np.zeros((iterations,ram0))\n",
    "    cur=np.zeros((iterations,ram0))\n",
    "    A=np.zeros(ram0)\n",
    "    B=np.zeros(ram0)\n",
    "    C=[sigma, drift, potential_constant, iterations,time2]\n",
    "    intial_pos=-np.arcsin(-Radius_of_circle*drift/potential_constant)+np.pi\n",
    "    #intial_pos=1.0\n",
    "    theta0=np.full(ram0,intial_pos) \n",
    "    #use above theta0 for f<V0. For f>V0, use below theta0\n",
    "    #theta0=np.pi/2\n",
    "    theta=np.full(ram0,theta0)\n",
    "    theta2=np.zeros(ram0)\n",
    "    dt=0.1 #time increment\n",
    "    T=int(time2/dt) #Total time\n",
    "    std=np.sqrt(dt*sigma)\n",
    "    \n",
    "    prefactor=1/(gamma*Radius_of_circle)\n",
    "    for n in range(iterations):\n",
    "        #D=np.zeros(T)\n",
    "        #D[0]=intial_pos\n",
    "        \n",
    "        for i in range(T):\n",
    "            #D[i]=theta[0]-theta0[0]\n",
    "            theta+=prefactor*(np.random.normal(0,std, ram0)+(drift-potential_constant*(-np.sin(theta))/Radius_of_circle)*dt)\n",
    "            \n",
    "        theta2=theta-np.floor((theta-np.pi)/(2*np.pi))*2*np.pi-2*np.pi\n",
    "        \n",
    "        pos[n]=theta2\n",
    "        cur[n]=Radius_of_circle*(theta-theta0)/time2\n",
    "        \n",
    "        theta=np.full(ram0,theta0)\n",
    "\n",
    "    pos=pos.flatten()\n",
    "    cur=cur.flatten()\n",
    "\n",
    "\n",
    "    return pos,cur #D\n",
    "\n",
    "if __name__ == \"__main__\":\n",
    "    iterations=10**2\n",
    "    \n",
    "    with concurrent.futures.ProcessPoolExecutor() as executor:\n",
    "        start_time = time.perf_counter()\n",
    "        temp = list(executor.map(brownian_v3, [10 for i in range(int(iterations/10))]))\n",
    "        finish_time = time.perf_counter()\n",
    "    print(f\"Program finished in {finish_time-start_time} seconds\")\n",
    "    \n",
    "\n",
    "results = [[temp[j][i] for j in range(len(temp))] for i in range(len(temp[0]))]\n",
    "pos = flatten(results[0])\n",
    "cur = flatten(results[1])\n",
    "\n",
    "print(len(cur))\n"
   ]
  },
  {
   "cell_type": "code",
   "execution_count": 51,
   "id": "e2fada86",
   "metadata": {
    "code_folding": [
     4,
     11
    ],
    "scrolled": true
   },
   "outputs": [
    {
     "data": {
      "image/png": "[encoded data removed]",
      "text/plain": [
       "<Figure size 432x288 with 1 Axes>"
      ]
     },
     "metadata": {
      "needs_background": "light"
     },
     "output_type": "display_data"
    }
   ],
   "source": [
    "bins_manual=[]\n",
    "for i in range(-15,80):\n",
    "    bins_manual.append((2*np.pi*i-np.pi)/time2)\n",
    "    \n",
    "pj=plt.hist(cur, bins=bins_manual, density=True)[0]\n",
    "pjx=plt.hist(cur, bins=bins_manual, density=True)[1]\n",
    "pjj=[]\n",
    "pjjx=[]\n",
    "for i in range(len(pj)-1):\n",
    "    if pj[i]!=0:\n",
    "        pjj.append(pj[i])\n",
    "        pjjx.append((pjx[i+1]+pjx[i])/2)\n",
    "pj2=(-1/time2)*np.log(pjj)\n",
    "\n",
    "Area2=0\n",
    "for i in range(len(pjjx)):\n",
    "    Area2+=pjj[i]\n",
    "\n",
    "Area=np.sum(pj)*(pjx[2]-pjx[1])\n",
    "    \n",
    "#Don't divide by area or area2. Useless\n",
    "\n",
    "\n",
    "pj2=(-1/time2)*np.log(pjj)"
   ]
  },
  {
   "cell_type": "code",
   "execution_count": 52,
   "id": "b0ecd928",
   "metadata": {},
   "outputs": [
    {
     "data": {
      "text/plain": [
       "<matplotlib.collections.PathCollection at 0x7f927c729750>"
      ]
     },
     "execution_count": 52,
     "metadata": {},
     "output_type": "execute_result"
    },
    {
     "data": {
      "image/png": "[encoded data removed]",
      "text/plain": [
       "<Figure size 432x288 with 1 Axes>"
      ]
     },
     "metadata": {
      "needs_background": "light"
     },
     "output_type": "display_data"
    }
   ],
   "source": [
    "plt.scatter(pjjx,pj2-min(pj2))"
   ]
  },
  {
   "cell_type": "code",
   "execution_count": 55,
   "id": "07891d62",
   "metadata": {
    "scrolled": true
   },
   "outputs": [
    {
     "data": {
      "text/plain": [
       "<function matplotlib.pyplot.show(close=None, block=None)>"
      ]
     },
     "execution_count": 55,
     "metadata": {},
     "output_type": "execute_result"
    },
    {
     "data": {
      "image/png": "[encoded data removed]",
      "text/plain": [
       "<Figure size 432x288 with 1 Axes>"
      ]
     },
     "metadata": {
      "needs_background": "light"
     },
     "output_type": "display_data"
    }
   ],
   "source": [
    "arr=ratefn(sigma,drift,potential_constant)\n",
    "plt.scatter(arr[0],arr[1])\n",
    "\n",
    "plt.scatter(pjjx,pj2-min(pj2))\n",
    "#plt.scatter(pjjx-(pjjx[np.argmin(pj2)]-arr[0][np.argmin(arr[1])]),pj2-min(pj2))\n",
    "plt.title('Current rate function')\n",
    "plt.xlabel('j')\n",
    "plt.ylabel('-Log[P(j)]/T')\n",
    "\n",
    "plt.show"
   ]
  },
  {
   "cell_type": "code",
   "execution_count": 47,
   "id": "c3e47014",
   "metadata": {},
   "outputs": [
    {
     "data": {
      "text/plain": [
       "0.009400000000000002"
      ]
     },
     "execution_count": 47,
     "metadata": {},
     "output_type": "execute_result"
    }
   ],
   "source": [
    "pjjx[np.argmin(pj2)]\n",
    "arr[0][np.argmin(arr[1])]"
   ]
  },
  {
   "cell_type": "code",
   "execution_count": 46,
   "id": "7b525eb4",
   "metadata": {},
   "outputs": [
    {
     "data": {
      "text/plain": [
       "[[-0.02,\n",
       "  -0.0193,\n",
       "  -0.0186,\n",
       "  -0.0179,\n",
       "  -0.0172,\n",
       "  -0.0165,\n",
       "  -0.0158,\n",
       "  -0.015099999999999999,\n",
       "  -0.0144,\n",
       "  -0.0137,\n",
       "  -0.013,\n",
       "  -0.012299999999999998,\n",
       "  -0.0116,\n",
       "  -0.0109,\n",
       "  -0.010199999999999999,\n",
       "  -0.009499999999999998,\n",
       "  -0.008799999999999999,\n",
       "  -0.0081,\n",
       "  -0.007399999999999999,\n",
       "  -0.006699999999999998,\n",
       "  -0.005999999999999998,\n",
       "  -0.005299999999999999,\n",
       "  -0.004599999999999998,\n",
       "  -0.0038999999999999972,\n",
       "  -0.003199999999999998,\n",
       "  -0.0024999999999999988,\n",
       "  -0.0017999999999999995,\n",
       "  -0.0010999999999999968,\n",
       "  -0.0003999999999999976,\n",
       "  0.00030000000000000165,\n",
       "  0.0010000000000000044,\n",
       "  0.0017000000000000036,\n",
       "  0.002400000000000003,\n",
       "  0.003100000000000002,\n",
       "  0.0038000000000000013,\n",
       "  0.004500000000000004,\n",
       "  0.005200000000000003,\n",
       "  0.0059000000000000025,\n",
       "  0.006600000000000005,\n",
       "  0.007300000000000004,\n",
       "  0.008000000000000004,\n",
       "  0.008700000000000003,\n",
       "  0.009400000000000002,\n",
       "  0.010100000000000005,\n",
       "  0.010800000000000004,\n",
       "  0.011500000000000007,\n",
       "  0.012200000000000006,\n",
       "  0.012900000000000005,\n",
       "  0.013600000000000004,\n",
       "  0.014300000000000004,\n",
       "  0.015000000000000003,\n",
       "  0.015700000000000002,\n",
       "  0.0164,\n",
       "  0.017100000000000008,\n",
       "  0.017800000000000007,\n",
       "  0.018500000000000006,\n",
       "  0.019200000000000005,\n",
       "  0.019900000000000004,\n",
       "  0.020600000000000004,\n",
       "  0.021300000000000003,\n",
       "  0.02200000000000001,\n",
       "  0.02270000000000001,\n",
       "  0.023400000000000008,\n",
       "  0.024100000000000007,\n",
       "  0.024800000000000006,\n",
       "  0.025500000000000005,\n",
       "  0.026200000000000005,\n",
       "  0.026900000000000004,\n",
       "  0.027600000000000003,\n",
       "  0.02830000000000001,\n",
       "  0.02900000000000001,\n",
       "  0.029700000000000008,\n",
       "  0.030400000000000007,\n",
       "  0.031100000000000006,\n",
       "  0.03180000000000001,\n",
       "  0.0325,\n",
       "  0.03320000000000001,\n",
       "  0.03390000000000001,\n",
       "  0.034600000000000006,\n",
       "  0.03530000000000001,\n",
       "  0.036000000000000004,\n",
       "  0.03670000000000001,\n",
       "  0.0374,\n",
       "  0.03810000000000001,\n",
       "  0.0388,\n",
       "  0.03950000000000001,\n",
       "  0.040200000000000014,\n",
       "  0.040900000000000006,\n",
       "  0.04160000000000001,\n",
       "  0.042300000000000004,\n",
       "  0.04300000000000001,\n",
       "  0.0437,\n",
       "  0.04440000000000001,\n",
       "  0.0451,\n",
       "  0.04580000000000001,\n",
       "  0.0465,\n",
       "  0.047200000000000006,\n",
       "  0.04790000000000001,\n",
       "  0.048600000000000004,\n",
       "  0.04930000000000001],\n",
       " [0.0053526922069038595,\n",
       "  0.005128692206903859,\n",
       "  0.004904692206903859,\n",
       "  0.004680692206903859,\n",
       "  0.004461982457550302,\n",
       "  0.004251982457550303,\n",
       "  0.004041982457550303,\n",
       "  0.0038319824575503017,\n",
       "  0.00363372889369236,\n",
       "  0.0034377288936923607,\n",
       "  0.00324172889369236,\n",
       "  0.0030542089293527598,\n",
       "  0.00287220892935276,\n",
       "  0.00269020892935276,\n",
       "  0.002517086850927667,\n",
       "  0.0023490868509276667,\n",
       "  0.002181086850927667,\n",
       "  0.002025451279861602,\n",
       "  0.0018714512798616014,\n",
       "  0.0017218480303567022,\n",
       "  0.0015818480303567025,\n",
       "  0.0014418480303567025,\n",
       "  0.0013143080776337034,\n",
       "  0.0011883080776337034,\n",
       "  0.001070370446708692,\n",
       "  0.0009583704467086919,\n",
       "  0.0008510998988468705,\n",
       "  0.0007530998988468701,\n",
       "  0.0006570993405960807,\n",
       "  0.0005730993405960807,\n",
       "  0.0004890993405960804,\n",
       "  0.00041851691324056896,\n",
       "  0.0003485169132405691,\n",
       "  0.0002890477416240729,\n",
       "  0.00023304774162407298,\n",
       "  0.00018393033793126848,\n",
       "  0.0001419303379312686,\n",
       "  0.00010193767016681313,\n",
       "  7.393767016681299e-05,\n",
       "  4.593767016681301e-05,\n",
       "  2.7362922469130826e-05,\n",
       "  1.3362922469130811e-05,\n",
       "  0.0,\n",
       "  0.0,\n",
       "  0.0,\n",
       "  3.118867288377027e-06,\n",
       "  1.7118867288377042e-05,\n",
       "  3.1118867288377e-05,\n",
       "  4.7435864193774886e-05,\n",
       "  7.543586419377492e-05,\n",
       "  0.00010343586419377484,\n",
       "  0.00013143586419377487,\n",
       "  0.00017107921865430666,\n",
       "  0.00021307921865430703,\n",
       "  0.0002550792186543072,\n",
       "  0.00029955007949967094,\n",
       "  0.000355550079499671,\n",
       "  0.00041155007949967106,\n",
       "  0.0004675500794996709,\n",
       "  0.0005256795286522819,\n",
       "  0.0005956795286522825,\n",
       "  0.0006656795286522827,\n",
       "  0.0007356795286522825,\n",
       "  0.0008056795286522827,\n",
       "  0.0008855822043279411,\n",
       "  0.0009695822043279409,\n",
       "  0.0010535822043279408,\n",
       "  0.0011375822043279411,\n",
       "  0.001221582204327941,\n",
       "  0.0013166073822025535,\n",
       "  0.0014146073822025535,\n",
       "  0.0015126073822025535,\n",
       "  0.0016106073822025535,\n",
       "  0.0017086073822025535,\n",
       "  0.001811288618097992,\n",
       "  0.0019232886180979903,\n",
       "  0.0020352886180979913,\n",
       "  0.0021472886180979923,\n",
       "  0.0022592886180979915,\n",
       "  0.0023712886180979925,\n",
       "  0.0024872933575357465,\n",
       "  0.0026132933575357476,\n",
       "  0.002739293357535746,\n",
       "  0.002865293357535747,\n",
       "  0.0029912933575357457,\n",
       "  0.003117293357535747,\n",
       "  0.003243293357535748,\n",
       "  0.0033773742560876657,\n",
       "  0.003517374256087667,\n",
       "  0.0036573742560876647,\n",
       "  0.003797374256087666,\n",
       "  0.003937374256087664,\n",
       "  0.004077374256087665,\n",
       "  0.004217374256087664,\n",
       "  0.004359324323685864,\n",
       "  0.004513324323685864,\n",
       "  0.004667324323685865,\n",
       "  0.004821324323685866,\n",
       "  0.004975324323685864,\n",
       "  0.005129324323685866]]"
      ]
     },
     "execution_count": 46,
     "metadata": {},
     "output_type": "execute_result"
    }
   ],
   "source": [
    "arr"
   ]
  },
  {
   "cell_type": "code",
   "execution_count": 38,
   "id": "7c3641d5",
   "metadata": {},
   "outputs": [
    {
     "ename": "NameError",
     "evalue": "name 'mat' is not defined",
     "output_type": "error",
     "traceback": [
      "\u001b[0;31m---------------------------------------------------------------------------\u001b[0m",
      "\u001b[0;31mNameError\u001b[0m                                 Traceback (most recent call last)",
      "\u001b[0;32m/tmp/ipykernel_5671/2675632266.py\u001b[0m in \u001b[0;36m<module>\u001b[0;34m\u001b[0m\n\u001b[0;32m----> 1\u001b[0;31m \u001b[0mnp\u001b[0m\u001b[0;34m.\u001b[0m\u001b[0mreal_if_close\u001b[0m\u001b[0;34m(\u001b[0m\u001b[0mnp\u001b[0m\u001b[0;34m.\u001b[0m\u001b[0mlinalg\u001b[0m\u001b[0;34m.\u001b[0m\u001b[0meigvals\u001b[0m\u001b[0;34m(\u001b[0m\u001b[0mmat\u001b[0m\u001b[0;34m[\u001b[0m\u001b[0;36m1\u001b[0m\u001b[0;34m:\u001b[0m\u001b[0;34m-\u001b[0m\u001b[0;36m1\u001b[0m\u001b[0;34m,\u001b[0m\u001b[0;36m1\u001b[0m\u001b[0;34m:\u001b[0m\u001b[0;34m-\u001b[0m\u001b[0;36m1\u001b[0m\u001b[0;34m]\u001b[0m\u001b[0;34m)\u001b[0m\u001b[0;34m)\u001b[0m\u001b[0;34m\u001b[0m\u001b[0;34m\u001b[0m\u001b[0m\n\u001b[0m",
      "\u001b[0;31mNameError\u001b[0m: name 'mat' is not defined"
     ]
    }
   ],
   "source": [
    "np.real_if_close(np.linalg.eigvals(mat[1:-1,1:-1]))"
   ]
  },
  {
   "cell_type": "code",
   "execution_count": 187,
   "id": "38e168b9",
   "metadata": {},
   "outputs": [
    {
     "name": "stdout",
     "output_type": "stream",
     "text": [
      "[0.000986567937507266]\n"
     ]
    }
   ],
   "source": [
    "a=np.linalg.eigvals(mat[1:-1,1:-1])\n",
    "b=[]\n",
    "for i in range(len(a)):\n",
    "    if abs(a[i].imag)<1e-10:\n",
    "        b.append(a[i].real)\n",
    "        \n",
    "print(b)"
   ]
  },
  {
   "cell_type": "code",
   "execution_count": 225,
   "id": "9b664529",
   "metadata": {},
   "outputs": [
    {
     "data": {
      "text/plain": [
       "-0.0005375698527851891"
      ]
     },
     "execution_count": 225,
     "metadata": {},
     "output_type": "execute_result"
    }
   ],
   "source": [
    "max(np.linalg.eigvals(mat[1:-1,1:-1]).real)"
   ]
  },
  {
   "cell_type": "code",
   "execution_count": 81,
   "id": "fdac72f3",
   "metadata": {},
   "outputs": [
    {
     "data": {
      "text/plain": [
       "0.125"
      ]
     },
     "execution_count": 81,
     "metadata": {},
     "output_type": "execute_result"
    }
   ],
   "source": [
    "k*drift+k**2*sigma**2/2"
   ]
  },
  {
   "cell_type": "code",
   "execution_count": 94,
   "id": "7026a047",
   "metadata": {},
   "outputs": [
    {
     "data": {
      "text/plain": [
       "array([[ 0.125+0.j  , -0.   +0.j  ,  0.   +0.j  ],\n",
       "       [ 0.   +0.j  ,  0.   +0.25j, -0.   +0.j  ],\n",
       "       [ 0.   +0.j  ,  0.   +0.j  , -0.375+0.5j ]])"
      ]
     },
     "execution_count": 94,
     "metadata": {},
     "output_type": "execute_result"
    }
   ],
   "source": [
    "mat[1:-1,1:-1]"
   ]
  },
  {
   "cell_type": "code",
   "execution_count": 106,
   "id": "5bcbde08",
   "metadata": {},
   "outputs": [
    {
     "data": {
      "text/plain": [
       "array([-4., -3., -2., -1.,  0.,  1.,  2.,  3.,  4.,  5.,  6.])"
      ]
     },
     "execution_count": 106,
     "metadata": {},
     "output_type": "execute_result"
    }
   ],
   "source": [
    "np.linalg.eigvals(mat[1:-1,1:-1]).imag"
   ]
  },
  {
   "cell_type": "code",
   "execution_count": 143,
   "id": "868e5b10",
   "metadata": {},
   "outputs": [
    {
     "data": {
      "text/plain": [
       "array(0.53332514+0.89148746j)"
      ]
     },
     "execution_count": 143,
     "metadata": {},
     "output_type": "execute_result"
    }
   ],
   "source": [
    "np.real_if_close(0.53332514+8.91487462e-1j)"
   ]
  },
  {
   "cell_type": "code",
   "execution_count": null,
   "id": "f7f52a29",
   "metadata": {},
   "outputs": [],
   "source": [
    "k=-2\n",
    "\n",
    "N=30\n",
    "mat=np.zeros((2*N+1+2,2*N+1+2), dtype=complex)\n",
    "\n",
    "for i in range(1,len(mat)-1):\n",
    "    mat[i,i]=(drift+k*sigma**2)*(-N+i-1)*1j-sigma**2*(-N+i-1)**2/2+k*drift+k**2*sigma**2/2\n",
    "    mat[i,i-1]=potential_constant/2*(-N+i-1-1-k*1j)\n",
    "    mat[i,i+1]=potential_constant/2*(N-i+1-1+k*1j)\n",
    "\n",
    "\n",
    "\n",
    "a=np.linalg.eigvals(mat[1:-1,1:-1])\n",
    "b=[]\n",
    "for i in range(len(a)):\n",
    "    if abs(a[i].imag)<1e-10:\n",
    "        b.append(a[i].real)\n",
    "        \n",
    "print(b[0])"
   ]
  }
 ],
 "metadata": {
  "kernelspec": {
   "display_name": "Python 3 (ipykernel)",
   "language": "python",
   "name": "python3"
  },
  "language_info": {
   "codemirror_mode": {
    "name": "ipython",
    "version": 3
   },
   "file_extension": ".py",
   "mimetype": "text/x-python",
   "name": "python",
   "nbconvert_exporter": "python",
   "pygments_lexer": "ipython3",
   "version": "3.10.4"
  }
 },
 "nbformat": 4,
 "nbformat_minor": 5
}
